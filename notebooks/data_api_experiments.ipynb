{
 "cells": [
  {
   "cell_type": "code",
   "execution_count": 1,
   "id": "3131bd60",
   "metadata": {},
   "outputs": [],
   "source": [
    "# Set project directory\n",
    "import os\n",
    "import sys\n",
    "\n",
    "\n",
    "def project_dir():\n",
    "    notebook_path = %pwd\n",
    "    repo_name = \"worldbank_data_exploration\"\n",
    "    repo_folder = notebook_path.split(repo_name)[0]\n",
    "    return os.path.join(repo_folder, repo_name)\n",
    "\n",
    "\n",
    "pwd = os.getenv(\"PWD\", project_dir())\n",
    "os.environ[\"PWD\"] = pwd\n",
    "sys.path.append(pwd)"
   ]
  },
  {
   "cell_type": "code",
   "execution_count": 3,
   "id": "7cfa50d1",
   "metadata": {},
   "outputs": [],
   "source": [
    "import requests\n",
    "import grequests\n",
    "\n",
    "import pandas as pd\n",
    "\n",
    "import time"
   ]
  },
  {
   "cell_type": "code",
   "execution_count": 34,
   "id": "68205e7a",
   "metadata": {},
   "outputs": [],
   "source": [
    "countries = [\"pl\", \"de\", \"usa\", \"fra\"]\n",
    "\n",
    "params = [\"format=json\", \"date=1960:2022\", \"per_page=100\"]\n",
    "\n",
    "indicator = \"FP.CPI.TOTL.ZG\""
   ]
  },
  {
   "cell_type": "code",
   "execution_count": 35,
   "id": "5608b11f",
   "metadata": {},
   "outputs": [],
   "source": [
    "# # synchronous\n",
    "# responses = []\n",
    "# start = time.time()\n",
    "\n",
    "# for country in countries:\n",
    "#     url = f'http://api.worldbank.org/v2/country/{country}/indicator/{indicator}'\n",
    "#     request = url + '?' + ''.join([f'{param}&' for param in params])[:-1]\n",
    "\n",
    "#     responses.append(requests.get(request).json())\n",
    "\n",
    "# end = time.time()\n",
    "# print(f'{(end - start):0.2f} s')\n",
    "\n",
    "# len(responses), responses[0][1][:2]"
   ]
  },
  {
   "cell_type": "code",
   "execution_count": 36,
   "id": "f6d221df-fc92-4cbe-8b03-4758c07962b9",
   "metadata": {},
   "outputs": [
    {
     "name": "stdout",
     "output_type": "stream",
     "text": [
      "0.73 s\n"
     ]
    },
    {
     "data": {
      "text/plain": [
       "(4,\n",
       " [{'indicator': {'id': 'FP.CPI.TOTL.ZG',\n",
       "    'value': 'Inflation, consumer prices (annual %)'},\n",
       "   'country': {'id': 'PL', 'value': 'Poland'},\n",
       "   'countryiso3code': 'POL',\n",
       "   'date': '2020',\n",
       "   'value': 3.3744697261859,\n",
       "   'unit': '',\n",
       "   'obs_status': '',\n",
       "   'decimal': 1},\n",
       "  {'indicator': {'id': 'FP.CPI.TOTL.ZG',\n",
       "    'value': 'Inflation, consumer prices (annual %)'},\n",
       "   'country': {'id': 'PL', 'value': 'Poland'},\n",
       "   'countryiso3code': 'POL',\n",
       "   'date': '2019',\n",
       "   'value': 2.227478809383,\n",
       "   'unit': '',\n",
       "   'obs_status': '',\n",
       "   'decimal': 1}])"
      ]
     },
     "execution_count": 36,
     "metadata": {},
     "output_type": "execute_result"
    }
   ],
   "source": [
    "# asynchronous\n",
    "start = time.time()\n",
    "\n",
    "async_list = []\n",
    "for country in countries:\n",
    "    url = f\"http://api.worldbank.org/v2/country/{country}/indicator/{indicator}\"\n",
    "    request = url + \"?\" + \"\".join([f\"{param}&\" for param in params])[:-1]\n",
    "    async_list.append(grequests.get(request))\n",
    "\n",
    "responses = [response.json() for response in grequests.map(async_list)]\n",
    "\n",
    "end = time.time()\n",
    "print(f\"{(end - start):0.2f} s\")\n",
    "\n",
    "len(responses), responses[0][1][:2]"
   ]
  },
  {
   "cell_type": "code",
   "execution_count": 37,
   "id": "b820d011",
   "metadata": {},
   "outputs": [
    {
     "data": {
      "text/plain": [
       "['2020',\n",
       " '2019',\n",
       " '2018',\n",
       " '2017',\n",
       " '2016',\n",
       " '2015',\n",
       " '2014',\n",
       " '2013',\n",
       " '2012',\n",
       " '2011']"
      ]
     },
     "execution_count": 37,
     "metadata": {},
     "output_type": "execute_result"
    }
   ],
   "source": [
    "data_years = [entry[\"date\"] for entry in responses[0][1]]\n",
    "data_years[:10]"
   ]
  },
  {
   "cell_type": "code",
   "execution_count": 38,
   "id": "b16bc6ef",
   "metadata": {},
   "outputs": [
    {
     "data": {
      "text/plain": [
       "['Poland', 'Germany', 'United States', 'France']"
      ]
     },
     "execution_count": 38,
     "metadata": {},
     "output_type": "execute_result"
    }
   ],
   "source": [
    "data_countries = [response[1][0][\"country\"][\"value\"] for response in responses]\n",
    "data_countries"
   ]
  },
  {
   "cell_type": "code",
   "execution_count": 39,
   "id": "61a22706",
   "metadata": {},
   "outputs": [
    {
     "data": {
      "text/plain": [
       "[3.3744697261859, 2.227478809383, 1.81295156542681]"
      ]
     },
     "execution_count": 39,
     "metadata": {},
     "output_type": "execute_result"
    }
   ],
   "source": [
    "data_values = [[entry[\"value\"] for entry in response[1]] for response in responses]\n",
    "data_values[0][:3]"
   ]
  },
  {
   "cell_type": "code",
   "execution_count": 40,
   "id": "7e8668ab",
   "metadata": {},
   "outputs": [
    {
     "data": {
      "text/plain": [
       "[('2020',\n",
       "  3.3744697261859,\n",
       "  0.506689889953274,\n",
       "  1.23358439630637,\n",
       "  0.476498852725083),\n",
       " ('2019', 2.227478809383, 1.4456670146976, 1.81221007526015, 1.10825492288292),\n",
       " ('2018',\n",
       "  1.81295156542681,\n",
       "  1.73216766075662,\n",
       "  2.44258329692818,\n",
       "  1.85081508315494)]"
      ]
     },
     "execution_count": 40,
     "metadata": {},
     "output_type": "execute_result"
    }
   ],
   "source": [
    "list(zip(*([data_years] + data_values)))[:3]"
   ]
  },
  {
   "cell_type": "code",
   "execution_count": 43,
   "id": "00fa4a1b",
   "metadata": {},
   "outputs": [
    {
     "data": {
      "text/html": [
       "<div>\n",
       "<style scoped>\n",
       "    .dataframe tbody tr th:only-of-type {\n",
       "        vertical-align: middle;\n",
       "    }\n",
       "\n",
       "    .dataframe tbody tr th {\n",
       "        vertical-align: top;\n",
       "    }\n",
       "\n",
       "    .dataframe thead th {\n",
       "        text-align: right;\n",
       "    }\n",
       "</style>\n",
       "<table border=\"1\" class=\"dataframe\">\n",
       "  <thead>\n",
       "    <tr style=\"text-align: right;\">\n",
       "      <th></th>\n",
       "      <th>Poland</th>\n",
       "      <th>Germany</th>\n",
       "      <th>United States</th>\n",
       "      <th>France</th>\n",
       "    </tr>\n",
       "  </thead>\n",
       "  <tbody>\n",
       "    <tr>\n",
       "      <th>1960</th>\n",
       "      <td>NaN</td>\n",
       "      <td>1.536612</td>\n",
       "      <td>1.457976</td>\n",
       "      <td>4.139936</td>\n",
       "    </tr>\n",
       "    <tr>\n",
       "      <th>1961</th>\n",
       "      <td>NaN</td>\n",
       "      <td>2.293676</td>\n",
       "      <td>1.070724</td>\n",
       "      <td>2.400461</td>\n",
       "    </tr>\n",
       "    <tr>\n",
       "      <th>1962</th>\n",
       "      <td>NaN</td>\n",
       "      <td>2.843280</td>\n",
       "      <td>1.198773</td>\n",
       "      <td>5.331280</td>\n",
       "    </tr>\n",
       "    <tr>\n",
       "      <th>1963</th>\n",
       "      <td>NaN</td>\n",
       "      <td>2.966961</td>\n",
       "      <td>1.239669</td>\n",
       "      <td>4.999153</td>\n",
       "    </tr>\n",
       "    <tr>\n",
       "      <th>1964</th>\n",
       "      <td>NaN</td>\n",
       "      <td>2.335728</td>\n",
       "      <td>1.278912</td>\n",
       "      <td>3.211192</td>\n",
       "    </tr>\n",
       "    <tr>\n",
       "      <th>...</th>\n",
       "      <td>...</td>\n",
       "      <td>...</td>\n",
       "      <td>...</td>\n",
       "      <td>...</td>\n",
       "    </tr>\n",
       "    <tr>\n",
       "      <th>2016</th>\n",
       "      <td>-0.664767</td>\n",
       "      <td>0.491749</td>\n",
       "      <td>1.261583</td>\n",
       "      <td>0.183335</td>\n",
       "    </tr>\n",
       "    <tr>\n",
       "      <th>2017</th>\n",
       "      <td>2.075936</td>\n",
       "      <td>1.509497</td>\n",
       "      <td>2.130110</td>\n",
       "      <td>1.032283</td>\n",
       "    </tr>\n",
       "    <tr>\n",
       "      <th>2018</th>\n",
       "      <td>1.812952</td>\n",
       "      <td>1.732168</td>\n",
       "      <td>2.442583</td>\n",
       "      <td>1.850815</td>\n",
       "    </tr>\n",
       "    <tr>\n",
       "      <th>2019</th>\n",
       "      <td>2.227479</td>\n",
       "      <td>1.445667</td>\n",
       "      <td>1.812210</td>\n",
       "      <td>1.108255</td>\n",
       "    </tr>\n",
       "    <tr>\n",
       "      <th>2020</th>\n",
       "      <td>3.374470</td>\n",
       "      <td>0.506690</td>\n",
       "      <td>1.233584</td>\n",
       "      <td>0.476499</td>\n",
       "    </tr>\n",
       "  </tbody>\n",
       "</table>\n",
       "<p>61 rows × 4 columns</p>\n",
       "</div>"
      ],
      "text/plain": [
       "        Poland   Germany  United States    France\n",
       "1960       NaN  1.536612       1.457976  4.139936\n",
       "1961       NaN  2.293676       1.070724  2.400461\n",
       "1962       NaN  2.843280       1.198773  5.331280\n",
       "1963       NaN  2.966961       1.239669  4.999153\n",
       "1964       NaN  2.335728       1.278912  3.211192\n",
       "...        ...       ...            ...       ...\n",
       "2016 -0.664767  0.491749       1.261583  0.183335\n",
       "2017  2.075936  1.509497       2.130110  1.032283\n",
       "2018  1.812952  1.732168       2.442583  1.850815\n",
       "2019  2.227479  1.445667       1.812210  1.108255\n",
       "2020  3.374470  0.506690       1.233584  0.476499\n",
       "\n",
       "[61 rows x 4 columns]"
      ]
     },
     "execution_count": 43,
     "metadata": {},
     "output_type": "execute_result"
    },
    {
     "name": "stderr",
     "output_type": "stream",
     "text": [
      "C:\\Users\\MatiX\\anaconda3\\envs\\py39\\lib\\site-packages\\gevent\\hub.py:161: UserWarning: libuv only supports millisecond timer resolution; all times less will be set to 1 ms\n",
      "  with loop.timer(seconds, ref=ref) as t:\n"
     ]
    }
   ],
   "source": [
    "data_df = pd.DataFrame(\n",
    "    list(zip(*data_values)), columns=data_countries, index=data_years\n",
    ").iloc[::-1]\n",
    "data_df.head(70)"
   ]
  },
  {
   "cell_type": "code",
   "execution_count": 42,
   "id": "f7a266af",
   "metadata": {},
   "outputs": [
    {
     "data": {
      "text/plain": [
       "<AxesSubplot:>"
      ]
     },
     "execution_count": 42,
     "metadata": {},
     "output_type": "execute_result"
    },
    {
     "data": {
      "image/png": "[encoded data removed]",
      "text/plain": [
       "<Figure size 432x288 with 1 Axes>"
      ]
     },
     "metadata": {
      "needs_background": "light"
     },
     "output_type": "display_data"
    },
    {
     "name": "stderr",
     "output_type": "stream",
     "text": [
      "C:\\Users\\MatiX\\anaconda3\\envs\\py39\\lib\\site-packages\\gevent\\hub.py:161: UserWarning: libuv only supports millisecond timer resolution; all times less will be set to 1 ms\n",
      "  with loop.timer(seconds, ref=ref) as t:\n"
     ]
    }
   ],
   "source": [
    "data_df.plot(use_index=True, kind=\"line\")"
   ]
  },
  {
   "cell_type": "code",
   "execution_count": 11,
   "id": "71b4e0ec",
   "metadata": {},
   "outputs": [],
   "source": [
    "if \"data\" not in os.listdir():\n",
    "    os.mkdir(\"data\")\n",
    "\n",
    "data_df.to_csv(\"data/example_df.csv\")"
   ]
  },
  {
   "cell_type": "code",
   "execution_count": 1,
   "id": "aebba96e-0eea-4d2c-8fa3-0ba97680c31f",
   "metadata": {},
   "outputs": [
    {
     "name": "stdout",
     "output_type": "stream",
     "text": [
      "Help on module wbgapi.series in wbgapi:\n",
      "\n",
      "NAME\n",
      "    wbgapi.series - Access information about series in a database\n",
      "\n",
      "FUNCTIONS\n",
      "    Series(id='all', q=None, topic=None, db=None, name='SeriesName')\n",
      "        Return a pandas Series by calling list\n",
      "    \n",
      "    get(id, db=None)\n",
      "        Retrieve a specific series object\n",
      "        \n",
      "        Arguments:\n",
      "            id:     the series identifier\n",
      "        \n",
      "            db:     database; pass None to access the global database\n",
      "        \n",
      "        Returns:\n",
      "            a series object\n",
      "        \n",
      "        Example:\n",
      "            print(wbgapi.series.get('SP.POP.TOTL')['value'])\n",
      "    \n",
      "    info(id='all', q=None, topic=None, db=None)\n",
      "        Print a user report of series. This can be time consuming\n",
      "        for large databases like the WDI if 'all' series are requested.\n",
      "        \n",
      "        Arguments:\n",
      "            id:         a series identifier or list-like of identifiers\n",
      "        \n",
      "            q:          search string (on series name))\n",
      "        \n",
      "            topic:      topic ID or list-like\n",
      "        \n",
      "            db:         database; pass None to access the global database\n",
      "        \n",
      "        Returns:\n",
      "            None\n",
      "    \n",
      "    list(id='all', q=None, topic=None, db=None)\n",
      "        Return a list of series elements in the current database\n",
      "        \n",
      "        Arguments:\n",
      "            id:     a series identifier (i.e., CETS code) or list-like\n",
      "        \n",
      "            q:      search string (on series name)\n",
      "        \n",
      "            topic:  topic ID or list-like\n",
      "        \n",
      "            db:     database; pass None to access the global database\n",
      "        \n",
      "        Returns:\n",
      "            a generator object\n",
      "        \n",
      "        Example:\n",
      "            for elem in wbgapi.series.list():\n",
      "                print(elem['id'], elem['value'])\n",
      "\n",
      "FILE\n",
      "    /home/maciektr/Programowanie/AGH_Laby/worldbank_data_exploration/venv/lib/python3.8/site-packages/wbgapi/series.py\n",
      "\n",
      "\n",
      "{'id': 'FP.CPI.TOTL.ZG', 'value': 'Inflation, consumer prices (annual %)'}\n"
     ]
    },
    {
     "name": "stderr",
     "output_type": "stream",
     "text": [
      "/home/maciektr/Programowanie/AGH_Laby/worldbank_data_exploration/venv/lib/python3.8/site-packages/wbgapi/data.py:327: FutureWarning: The default dtype for empty Series will be 'object' instead of 'float64' in a future version. Specify a dtype explicitly to silence this warning.\n",
      "  dummy = pd.Series()    # empty series - never assigned actual values\n"
     ]
    },
    {
     "name": "stdout",
     "output_type": "stream",
     "text": [
      "                EN.ATM.CO2E.KT  SP.POP.TOTL\n",
      "economy time                               \n",
      "ABW     YR2000             NaN      90866.0\n",
      "        YR2001             NaN      92892.0\n",
      "        YR2002             NaN      94992.0\n",
      "        YR2003             NaN      97016.0\n",
      "        YR2004             NaN      98744.0\n",
      "...                        ...          ...\n",
      "ZWE     YR2015         12400.0   13814642.0\n",
      "        YR2016         10990.0   14030338.0\n",
      "        YR2017         10230.0   14236599.0\n",
      "        YR2018         12270.0   14438812.0\n",
      "        YR2019             NaN   14645473.0\n",
      "\n",
      "[5299 rows x 2 columns]\n"
     ]
    }
   ],
   "source": [
    "import wbgapi as wb\n",
    "\n",
    "if __name__ == \"__main__\":\n",
    "    help(wb.series)\n",
    "    print(wb.series.get(\"FP.CPI.TOTL.ZG\"))\n",
    "    df = wb.data.DataFrame(\n",
    "        [\"SP.POP.TOTL\", \"EN.ATM.CO2E.KT\"],\n",
    "        time=range(2000, 2020),\n",
    "        skipBlanks=True,\n",
    "        columns=\"series\",\n",
    "    )"
   ]
  },
  {
   "cell_type": "code",
   "execution_count": 2,
   "id": "96cb5a30",
   "metadata": {
    "pycharm": {
     "name": "#%%\n"
    }
   },
   "outputs": [
    {
     "ename": "NameError",
     "evalue": "name 'df' is not defined",
     "output_type": "error",
     "traceback": [
      "\u001b[0;31m---------------------------------------------------------------------------\u001b[0m",
      "\u001b[0;31mNameError\u001b[0m                                 Traceback (most recent call last)",
      "Input \u001b[0;32mIn [2]\u001b[0m, in \u001b[0;36m<cell line: 1>\u001b[0;34m()\u001b[0m\n\u001b[0;32m----> 1\u001b[0m \u001b[43mdf\u001b[49m\n",
      "\u001b[0;31mNameError\u001b[0m: name 'df' is not defined"
     ]
    }
   ],
   "source": [
    "df"
   ]
  }
 ],
 "metadata": {
  "kernelspec": {
   "display_name": "Python 3 (ipykernel)",
   "language": "python",
   "name": "python3"
  },
  "language_info": {
   "codemirror_mode": {
    "name": "ipython",
    "version": 3
   },
   "file_extension": ".py",
   "mimetype": "text/x-python",
   "name": "python",
   "nbconvert_exporter": "python",
   "pygments_lexer": "ipython3",
   "version": "3.9.7"
  }
 },
 "nbformat": 4,
 "nbformat_minor": 5
}
