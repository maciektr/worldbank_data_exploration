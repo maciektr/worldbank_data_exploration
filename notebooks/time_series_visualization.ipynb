{
 "cells": [
  {
   "cell_type": "code",
   "execution_count": 1,
   "metadata": {},
   "outputs": [],
   "source": [
    "# Set project directory\n",
    "import os\n",
    "import sys\n",
    "\n",
    "\n",
    "def project_dir():\n",
    "    notebook_path = %pwd\n",
    "    repo_name = \"worldbank_data_exploration\"\n",
    "    repo_folder = notebook_path.split(repo_name)[0]\n",
    "    return os.path.join(repo_folder, repo_name)\n",
    "\n",
    "\n",
    "pwd = os.getenv(\"PWD\", project_dir())\n",
    "os.environ[\"PWD\"] = pwd\n",
    "sys.path.append(pwd)"
   ]
  },
  {
   "cell_type": "code",
   "execution_count": 2,
   "metadata": {},
   "outputs": [
    {
     "ename": "IndexError",
     "evalue": "Too many levels: Index has only 1 level, not 2",
     "output_type": "error",
     "traceback": [
      "\u001B[0;31m---------------------------------------------------------------------------\u001B[0m",
      "\u001B[0;31mIndexError\u001B[0m                                Traceback (most recent call last)",
      "Input \u001B[0;32mIn [2]\u001B[0m, in \u001B[0;36m<cell line: 5>\u001B[0;34m()\u001B[0m\n\u001B[1;32m      1\u001B[0m \u001B[38;5;28;01mfrom\u001B[39;00m \u001B[38;5;21;01mdata_sources\u001B[39;00m\u001B[38;5;21;01m.\u001B[39;00m\u001B[38;5;21;01mload_dataset\u001B[39;00m \u001B[38;5;28;01mimport\u001B[39;00m load_time_series, load_dataset\n\u001B[1;32m      2\u001B[0m \u001B[38;5;28;01mimport\u001B[39;00m \u001B[38;5;21;01mpandas\u001B[39;00m \u001B[38;5;28;01mas\u001B[39;00m \u001B[38;5;21;01mpd\u001B[39;00m\n\u001B[0;32m----> 5\u001B[0m ts, countries, years \u001B[38;5;241m=\u001B[39m \u001B[43mload_time_series\u001B[49m\u001B[43m(\u001B[49m\u001B[43m)\u001B[49m\n\u001B[1;32m      6\u001B[0m \u001B[38;5;28mprint\u001B[39m(\u001B[38;5;28mlen\u001B[39m(ts))\n\u001B[1;32m      7\u001B[0m \u001B[38;5;28mprint\u001B[39m(countries\u001B[38;5;241m.\u001B[39mshape)\n",
      "File \u001B[0;32m~/PycharmProjects/worldbank_data_exploration/data_sources/load_dataset.py:104\u001B[0m, in \u001B[0;36mload_time_series\u001B[0;34m()\u001B[0m\n\u001B[1;32m    102\u001B[0m time_series_dict \u001B[38;5;241m=\u001B[39m {}\n\u001B[1;32m    103\u001B[0m years \u001B[38;5;241m=\u001B[39m df\u001B[38;5;241m.\u001B[39munstack()\u001B[38;5;241m.\u001B[39mindex\u001B[38;5;241m.\u001B[39mvalues\n\u001B[0;32m--> 104\u001B[0m countries \u001B[38;5;241m=\u001B[39m \u001B[43mdf\u001B[49m\u001B[38;5;241;43m.\u001B[39;49m\u001B[43munstack\u001B[49m\u001B[43m(\u001B[49m\u001B[43m)\u001B[49m\u001B[38;5;241;43m.\u001B[39;49m\u001B[43mcolumns\u001B[49m\u001B[38;5;241;43m.\u001B[39;49m\u001B[43mget_level_values\u001B[49m\u001B[43m(\u001B[49m\u001B[38;5;241;43m1\u001B[39;49m\u001B[43m)\u001B[49m\u001B[38;5;241m.\u001B[39munique()\u001B[38;5;241m.\u001B[39mvalues\n\u001B[1;32m    106\u001B[0m \u001B[38;5;28;01mfor\u001B[39;00m col \u001B[38;5;129;01min\u001B[39;00m df\u001B[38;5;241m.\u001B[39mcolumns:\n\u001B[1;32m    107\u001B[0m     time_series_dict[col] \u001B[38;5;241m=\u001B[39m df[col]\u001B[38;5;241m.\u001B[39munstack()\u001B[38;5;241m.\u001B[39mvalues\u001B[38;5;241m.\u001B[39mT\n",
      "File \u001B[0;32m~/PycharmProjects/worldbank_data_exploration/venv/lib/python3.9/site-packages/pandas/core/indexes/base.py:2008\u001B[0m, in \u001B[0;36mIndex._get_level_values\u001B[0;34m(self, level)\u001B[0m\n\u001B[1;32m   1972\u001B[0m \u001B[38;5;28;01mdef\u001B[39;00m \u001B[38;5;21m_get_level_values\u001B[39m(\u001B[38;5;28mself\u001B[39m, level) \u001B[38;5;241m-\u001B[39m\u001B[38;5;241m>\u001B[39m Index:\n\u001B[1;32m   1973\u001B[0m     \u001B[38;5;124;03m\"\"\"\u001B[39;00m\n\u001B[1;32m   1974\u001B[0m \u001B[38;5;124;03m    Return an Index of values for requested level.\u001B[39;00m\n\u001B[1;32m   1975\u001B[0m \n\u001B[0;32m   (...)\u001B[0m\n\u001B[1;32m   2006\u001B[0m \u001B[38;5;124;03m    Index(['a', 'b', 'c'], dtype='object')\u001B[39;00m\n\u001B[1;32m   2007\u001B[0m \u001B[38;5;124;03m    \"\"\"\u001B[39;00m\n\u001B[0;32m-> 2008\u001B[0m     \u001B[38;5;28;43mself\u001B[39;49m\u001B[38;5;241;43m.\u001B[39;49m\u001B[43m_validate_index_level\u001B[49m\u001B[43m(\u001B[49m\u001B[43mlevel\u001B[49m\u001B[43m)\u001B[49m\n\u001B[1;32m   2009\u001B[0m     \u001B[38;5;28;01mreturn\u001B[39;00m \u001B[38;5;28mself\u001B[39m\n",
      "File \u001B[0;32m~/PycharmProjects/worldbank_data_exploration/venv/lib/python3.9/site-packages/pandas/core/indexes/base.py:1927\u001B[0m, in \u001B[0;36mIndex._validate_index_level\u001B[0;34m(self, level)\u001B[0m\n\u001B[1;32m   1922\u001B[0m         \u001B[38;5;28;01mraise\u001B[39;00m \u001B[38;5;167;01mIndexError\u001B[39;00m(\n\u001B[1;32m   1923\u001B[0m             \u001B[38;5;124m\"\u001B[39m\u001B[38;5;124mToo many levels: Index has only 1 level, \u001B[39m\u001B[38;5;124m\"\u001B[39m\n\u001B[1;32m   1924\u001B[0m             \u001B[38;5;124mf\u001B[39m\u001B[38;5;124m\"\u001B[39m\u001B[38;5;132;01m{\u001B[39;00mlevel\u001B[38;5;132;01m}\u001B[39;00m\u001B[38;5;124m is not a valid level number\u001B[39m\u001B[38;5;124m\"\u001B[39m\n\u001B[1;32m   1925\u001B[0m         )\n\u001B[1;32m   1926\u001B[0m     \u001B[38;5;28;01melif\u001B[39;00m level \u001B[38;5;241m>\u001B[39m \u001B[38;5;241m0\u001B[39m:\n\u001B[0;32m-> 1927\u001B[0m         \u001B[38;5;28;01mraise\u001B[39;00m \u001B[38;5;167;01mIndexError\u001B[39;00m(\n\u001B[1;32m   1928\u001B[0m             \u001B[38;5;124mf\u001B[39m\u001B[38;5;124m\"\u001B[39m\u001B[38;5;124mToo many levels: Index has only 1 level, not \u001B[39m\u001B[38;5;132;01m{\u001B[39;00mlevel \u001B[38;5;241m+\u001B[39m \u001B[38;5;241m1\u001B[39m\u001B[38;5;132;01m}\u001B[39;00m\u001B[38;5;124m\"\u001B[39m\n\u001B[1;32m   1929\u001B[0m         )\n\u001B[1;32m   1930\u001B[0m \u001B[38;5;28;01melif\u001B[39;00m level \u001B[38;5;241m!=\u001B[39m \u001B[38;5;28mself\u001B[39m\u001B[38;5;241m.\u001B[39mname:\n\u001B[1;32m   1931\u001B[0m     \u001B[38;5;28;01mraise\u001B[39;00m \u001B[38;5;167;01mKeyError\u001B[39;00m(\n\u001B[1;32m   1932\u001B[0m         \u001B[38;5;124mf\u001B[39m\u001B[38;5;124m\"\u001B[39m\u001B[38;5;124mRequested level (\u001B[39m\u001B[38;5;132;01m{\u001B[39;00mlevel\u001B[38;5;132;01m}\u001B[39;00m\u001B[38;5;124m) does not match index name (\u001B[39m\u001B[38;5;132;01m{\u001B[39;00m\u001B[38;5;28mself\u001B[39m\u001B[38;5;241m.\u001B[39mname\u001B[38;5;132;01m}\u001B[39;00m\u001B[38;5;124m)\u001B[39m\u001B[38;5;124m\"\u001B[39m\n\u001B[1;32m   1933\u001B[0m     )\n",
      "\u001B[0;31mIndexError\u001B[0m: Too many levels: Index has only 1 level, not 2"
     ]
    }
   ],
   "source": [
    "from data_sources.load_dataset import load_time_series, load_dataset\n",
    "import pandas as pd\n",
    "\n",
    "\n",
    "ts, countries, years = load_time_series()\n",
    "print(len(ts))\n",
    "print(countries.shape)\n",
    "print(years.shape)"
   ]
  },
  {
   "cell_type": "code",
   "execution_count": null,
   "metadata": {
    "pycharm": {
     "name": "#%%\n"
    }
   },
   "outputs": [],
   "source": [
    "dataset = load_dataset()\n",
    "countries = [\n",
    "    \"China\",\n",
    "    \"United States\",\n",
    "    \"Russian Federation\",\n",
    "    \"Japan\",\n",
    "    \"France\",\n",
    "    \"Poland\",\n",
    "    \"Kenya\",\n",
    "    \"Brazil\",\n",
    "    \"Canada\",\n",
    "]\n",
    "for col in dataset.columns.values:\n",
    "    data_to_visualize = dataset[col].unstack().loc[:, countries]\n",
    "    data_to_visualize.index = pd.to_datetime(\n",
    "        data_to_visualize.index.astype(str), format=\"%Y\"\n",
    "    )\n",
    "    data_to_visualize.plot(figsize=(10, 5), ylabel=col)"
   ]
  },
  {
   "cell_type": "code",
   "execution_count": null,
   "metadata": {
    "pycharm": {
     "name": "#%%\n"
    }
   },
   "outputs": [],
   "source": []
  }
 ],
 "metadata": {
  "kernelspec": {
   "display_name": "Python 3 (ipykernel)",
   "language": "python",
   "name": "python3"
  },
  "language_info": {
   "codemirror_mode": {
    "name": "ipython",
    "version": 3
   },
   "file_extension": ".py",
   "mimetype": "text/x-python",
   "name": "python",
   "nbconvert_exporter": "python",
   "pygments_lexer": "ipython3",
   "version": "3.9.7"
  }
 },
 "nbformat": 4,
 "nbformat_minor": 4
}