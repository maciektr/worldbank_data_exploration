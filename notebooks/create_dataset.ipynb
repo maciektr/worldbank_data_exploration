{
 "cells": [
  {
   "cell_type": "code",
   "execution_count": 26,
   "metadata": {
    "collapsed": true
   },
   "outputs": [],
   "source": [
    "from sklearn.preprocessing import StandardScaler\n",
    "import pandas as pd\n",
    "\n",
    "from data_sources.get import get_indicators"
   ]
  },
  {
   "cell_type": "code",
   "execution_count": 27,
   "outputs": [
    {
     "name": "stdout",
     "output_type": "stream",
     "text": [
      "['Population, total' 'Inflation, consumer prices (annual %)'\n",
      " 'Life expectancy at birth, total (years)'\n",
      " 'Exports of goods and services (% of GDP)'\n",
      " 'GDP per capita (constant 2015 US$)'\n",
      " 'Unemployment, total (% of total labor force) (modeled ILO estimate)'\n",
      " 'Agriculture, forestry, and fishing, value added (% of GDP)'\n",
      " 'Access to electricity (% of population)' 'Forest area (% of land area)'\n",
      " 'Mortality rate, under-5 (per 1,000 live births)'\n",
      " 'Total natural resources rents (% of GDP)'\n",
      " 'Fertility rate, total (births per woman)'\n",
      " 'Population in the largest city (% of urban population)'\n",
      " 'Scientific and technical journal articles'\n",
      " 'Military expenditure (% of GDP)']\n"
     ]
    }
   ],
   "source": [
    "df = get_indicators(\n",
    "    ['SP.POP.TOTL', 'FP.CPI.TOTL.ZG', 'SP.DYN.LE00.IN', 'NE.EXP.GNFS.ZS', 'NY.GDP.PCAP.KD', 'SL.UEM.TOTL.ZS', 'NV.AGR.TOTL.ZS', 'EG.ELC.ACCS.ZS', 'AG.LND.FRST.ZS', 'SH.DYN.MORT', 'NY.GDP.TOTL.RT.ZS', 'SP.DYN.TFRT.IN', 'EN.URB.LCTY.UR.ZS', 'IP.JRN.ARTC.SC', 'MS.MIL.XPND.GD.ZS']\n",
    ")\n",
    "\n",
    "print(df['Indicator Name'].unique())"
   ],
   "metadata": {
    "collapsed": false,
    "pycharm": {
     "name": "#%%\n"
    }
   }
  },
  {
   "cell_type": "code",
   "execution_count": 28,
   "outputs": [],
   "source": [
    "df = df.pivot_table(values='Value',\n",
    "                    index='Year',\n",
    "                    columns=['Indicator Name', 'Country Name'])"
   ],
   "metadata": {
    "collapsed": false,
    "pycharm": {
     "name": "#%%\n"
    }
   }
  },
  {
   "cell_type": "code",
   "execution_count": 29,
   "outputs": [],
   "source": [
    "df_nans = df.loc[2000:2019].isnull().sum().sort_values(ascending=False).reset_index()"
   ],
   "metadata": {
    "collapsed": false,
    "pycharm": {
     "name": "#%%\n"
    }
   }
  },
  {
   "cell_type": "code",
   "execution_count": 30,
   "outputs": [
    {
     "data": {
      "text/plain": "array(['Pacific island small states', 'Somalia', 'Turkmenistan',\n       'Caribbean small states', 'Afghanistan', 'Tuvalu', 'Dominica',\n       'New Caledonia', 'Isle of Man', 'Liechtenstein', 'Cayman Islands',\n       'French Polynesia', 'San Marino', 'Faroe Islands',\n       'Marshall Islands', 'St. Kitts and Nevis', 'Palau', 'Nauru',\n       'Eritrea', 'Sint Maarten (Dutch part)', 'Andorra', 'Uzbekistan',\n       'Papua New Guinea', 'Suriname', 'Maldives', 'Guyana', 'Barbados',\n       'Djibouti', 'Libya', 'Solomon Islands', 'Haiti',\n       'Syrian Arab Republic', 'Venezuela, RB', 'South Sudan',\n       'Channel Islands', 'Armenia', 'Timor-Leste', 'Equatorial Guinea',\n       'Turks and Caicos Islands', 'Yemen, Rep.', 'Small states',\n       'Ethiopia', 'Curacao', 'Other small states', 'Qatar', 'Zimbabwe',\n       'Aruba', 'Turkey', 'Bermuda', 'Cuba', 'Myanmar', 'Malaysia',\n       'Lebanon', 'Sudan', \"Korea, Dem. People's Rep.\",\n       'Central African Republic', 'Algeria', 'Kosovo',\n       'United Arab Emirates', 'Liberia', 'Lesotho', 'Sierra Leone',\n       'Guinea', 'Kiribati', 'Comoros', 'Lao PDR',\n       'Bosnia and Herzegovina', 'Guinea-Bissau', 'Bahrain', 'Montenegro',\n       'St. Lucia', 'Iraq', 'Mozambique', 'Togo', 'Congo, Rep.',\n       'Vietnam', 'Virgin Islands (U.S.)', 'Tajikistan', 'Benin',\n       'Zambia', 'Gambia, The', 'Namibia', 'Burundi', 'Low income',\n       'Gabon', 'Guam', 'Mauritania', 'American Samoa',\n       'Congo, Dem. Rep.', \"Cote d'Ivoire\", 'Greenland', 'Niger', 'World',\n       'Northern Mariana Islands'], dtype=object)"
     },
     "execution_count": 30,
     "metadata": {},
     "output_type": "execute_result"
    }
   ],
   "source": [
    "countries_with_nans = df_nans[df_nans[0] > 2]['Country Name'].unique()\n",
    "countries_with_nans"
   ],
   "metadata": {
    "collapsed": false,
    "pycharm": {
     "name": "#%%\n"
    }
   }
  },
  {
   "cell_type": "markdown",
   "source": [],
   "metadata": {
    "collapsed": false
   }
  },
  {
   "cell_type": "code",
   "execution_count": 31,
   "outputs": [],
   "source": [
    "df_cleared = df.loc[2000:2019].stack()\n",
    "df_cleared.drop(index=countries_with_nans, level=1, inplace=True)"
   ],
   "metadata": {
    "collapsed": false,
    "pycharm": {
     "name": "#%%\n"
    }
   }
  },
  {
   "cell_type": "code",
   "execution_count": 32,
   "outputs": [],
   "source": [
    "df_cleared.bfill(inplace=True)\n",
    "df_cleared.ffill(inplace=True)"
   ],
   "metadata": {
    "collapsed": false,
    "pycharm": {
     "name": "#%%\n"
    }
   }
  },
  {
   "cell_type": "code",
   "execution_count": 33,
   "outputs": [
    {
     "data": {
      "text/plain": "Indicator Name                    Access to electricity (% of population)  \\\nYear Country Name                                                           \n2000 Africa Eastern and Southern                                -2.510399   \n     Africa Western and Central                                 -1.938829   \n     Albania                                                     0.624136   \n     Angola                                                      0.524342   \n     Antigua and Barbuda                                         0.524342   \n\nIndicator Name                    Agriculture, forestry, and fishing, value added (% of GDP)  \\\nYear Country Name                                                                              \n2000 Africa Eastern and Southern                                           0.342165            \n     Africa Western and Central                                            1.323454            \n     Albania                                                               1.698047            \n     Angola                                                               -0.443243            \n     Antigua and Barbuda                                                  -0.905311            \n\nIndicator Name                    Exports of goods and services (% of GDP)  \\\nYear Country Name                                                            \n2000 Africa Eastern and Southern                                 -0.512874   \n     Africa Western and Central                                  -0.139560   \n     Albania                                                     -0.727230   \n     Angola                                                       1.809889   \n     Antigua and Barbuda                                          2.135033   \n\nIndicator Name                    Fertility rate, total (births per woman)  \\\nYear Country Name                                                            \n2000 Africa Eastern and Southern                                  2.184429   \n     Africa Western and Central                                   2.525287   \n     Albania                                                     -0.360271   \n     Angola                                                       2.978119   \n     Antigua and Barbuda                                         -0.328243   \n\nIndicator Name                    Forest area (% of land area)  \\\nYear Country Name                                                \n2000 Africa Eastern and Southern                      0.125685   \n     Africa Western and Central                      -0.526203   \n     Albania                                         -0.185064   \n     Angola                                           1.617897   \n     Antigua and Barbuda                             -0.532414   \n\nIndicator Name                    GDP per capita (constant 2015 US$)  \\\nYear Country Name                                                      \n2000 Africa Eastern and Southern                           -0.662428   \n     Africa Western and Central                            -0.664618   \n     Albania                                               -0.627431   \n     Angola                                                -0.603661   \n     Antigua and Barbuda                                   -0.040773   \n\nIndicator Name                    Inflation, consumer prices (annual %)  \\\nYear Country Name                                                         \n2000 Africa Eastern and Southern                               0.411844   \n     Africa Western and Central                               -0.259095   \n     Albania                                                  -0.533270   \n     Angola                                                   35.380077   \n     Antigua and Barbuda                                      -0.453500   \n\nIndicator Name                    Life expectancy at birth, total (years)  \\\nYear Country Name                                                           \n2000 Africa Eastern and Southern                                -2.476043   \n     Africa Western and Central                                 -2.728593   \n     Albania                                                     0.309170   \n     Angola                                                     -3.059901   \n     Antigua and Barbuda                                         0.307328   \n\nIndicator Name                    Military expenditure (% of GDP)  \\\nYear Country Name                                                   \n2000 Africa Eastern and Southern                         0.002652   \n     Africa Western and Central                         -0.725097   \n     Albania                                            -0.475151   \n     Angola                                              2.715328   \n     Antigua and Barbuda                                 2.677596   \n\nIndicator Name                    Mortality rate, under-5 (per 1,000 live births)  \\\nYear Country Name                                                                   \n2000 Africa Eastern and Southern                                         2.823783   \n     Africa Western and Central                                          3.688629   \n     Albania                                                            -0.165349   \n     Angola                                                              4.634816   \n     Antigua and Barbuda                                                -0.482289   \n\nIndicator Name                    Population in the largest city (% of urban population)  \\\nYear Country Name                                                                          \n2000 Africa Eastern and Southern                                          -0.046175        \n     Africa Western and Central                                           -0.063954        \n     Albania                                                              -0.177134        \n     Angola                                                                0.272387        \n     Antigua and Barbuda                                                   0.068826        \n\nIndicator Name                    Population, total  \\\nYear Country Name                                     \n2000 Africa Eastern and Southern           0.017207   \n     Africa Western and Central           -0.121909   \n     Albania                              -0.402615   \n     Angola                               -0.388474   \n     Antigua and Barbuda                  -0.405817   \n\nIndicator Name                    Scientific and technical journal articles  \\\nYear Country Name                                                             \n2000 Africa Eastern and Southern                                  -0.316311   \n     Africa Western and Central                                   -0.333835   \n     Albania                                                      -0.342370   \n     Angola                                                       -0.342444   \n     Antigua and Barbuda                                          -0.342477   \n\nIndicator Name                    Total natural resources rents (% of GDP)  \\\nYear Country Name                                                            \n2000 Africa Eastern and Southern                                  0.088610   \n     Africa Western and Central                                   1.361670   \n     Albania                                                     -0.521110   \n     Angola                                                       5.674349   \n     Antigua and Barbuda                                         -0.646263   \n\nIndicator Name                    Unemployment, total (% of total labor force) (modeled ILO estimate)  \nYear Country Name                                                                                      \n2000 Africa Eastern and Southern                                           0.041220                    \n     Africa Western and Central                                           -0.511689                    \n     Albania                                                               2.270505                    \n     Angola                                                               -0.687502                    \n     Antigua and Barbuda                                                   1.001963                    ",
      "text/html": "<div>\n<style scoped>\n    .dataframe tbody tr th:only-of-type {\n        vertical-align: middle;\n    }\n\n    .dataframe tbody tr th {\n        vertical-align: top;\n    }\n\n    .dataframe thead th {\n        text-align: right;\n    }\n</style>\n<table border=\"1\" class=\"dataframe\">\n  <thead>\n    <tr style=\"text-align: right;\">\n      <th></th>\n      <th>Indicator Name</th>\n      <th>Access to electricity (% of population)</th>\n      <th>Agriculture, forestry, and fishing, value added (% of GDP)</th>\n      <th>Exports of goods and services (% of GDP)</th>\n      <th>Fertility rate, total (births per woman)</th>\n      <th>Forest area (% of land area)</th>\n      <th>GDP per capita (constant 2015 US$)</th>\n      <th>Inflation, consumer prices (annual %)</th>\n      <th>Life expectancy at birth, total (years)</th>\n      <th>Military expenditure (% of GDP)</th>\n      <th>Mortality rate, under-5 (per 1,000 live births)</th>\n      <th>Population in the largest city (% of urban population)</th>\n      <th>Population, total</th>\n      <th>Scientific and technical journal articles</th>\n      <th>Total natural resources rents (% of GDP)</th>\n      <th>Unemployment, total (% of total labor force) (modeled ILO estimate)</th>\n    </tr>\n    <tr>\n      <th>Year</th>\n      <th>Country Name</th>\n      <th></th>\n      <th></th>\n      <th></th>\n      <th></th>\n      <th></th>\n      <th></th>\n      <th></th>\n      <th></th>\n      <th></th>\n      <th></th>\n      <th></th>\n      <th></th>\n      <th></th>\n      <th></th>\n      <th></th>\n    </tr>\n  </thead>\n  <tbody>\n    <tr>\n      <th rowspan=\"5\" valign=\"top\">2000</th>\n      <th>Africa Eastern and Southern</th>\n      <td>-2.510399</td>\n      <td>0.342165</td>\n      <td>-0.512874</td>\n      <td>2.184429</td>\n      <td>0.125685</td>\n      <td>-0.662428</td>\n      <td>0.411844</td>\n      <td>-2.476043</td>\n      <td>0.002652</td>\n      <td>2.823783</td>\n      <td>-0.046175</td>\n      <td>0.017207</td>\n      <td>-0.316311</td>\n      <td>0.088610</td>\n      <td>0.041220</td>\n    </tr>\n    <tr>\n      <th>Africa Western and Central</th>\n      <td>-1.938829</td>\n      <td>1.323454</td>\n      <td>-0.139560</td>\n      <td>2.525287</td>\n      <td>-0.526203</td>\n      <td>-0.664618</td>\n      <td>-0.259095</td>\n      <td>-2.728593</td>\n      <td>-0.725097</td>\n      <td>3.688629</td>\n      <td>-0.063954</td>\n      <td>-0.121909</td>\n      <td>-0.333835</td>\n      <td>1.361670</td>\n      <td>-0.511689</td>\n    </tr>\n    <tr>\n      <th>Albania</th>\n      <td>0.624136</td>\n      <td>1.698047</td>\n      <td>-0.727230</td>\n      <td>-0.360271</td>\n      <td>-0.185064</td>\n      <td>-0.627431</td>\n      <td>-0.533270</td>\n      <td>0.309170</td>\n      <td>-0.475151</td>\n      <td>-0.165349</td>\n      <td>-0.177134</td>\n      <td>-0.402615</td>\n      <td>-0.342370</td>\n      <td>-0.521110</td>\n      <td>2.270505</td>\n    </tr>\n    <tr>\n      <th>Angola</th>\n      <td>0.524342</td>\n      <td>-0.443243</td>\n      <td>1.809889</td>\n      <td>2.978119</td>\n      <td>1.617897</td>\n      <td>-0.603661</td>\n      <td>35.380077</td>\n      <td>-3.059901</td>\n      <td>2.715328</td>\n      <td>4.634816</td>\n      <td>0.272387</td>\n      <td>-0.388474</td>\n      <td>-0.342444</td>\n      <td>5.674349</td>\n      <td>-0.687502</td>\n    </tr>\n    <tr>\n      <th>Antigua and Barbuda</th>\n      <td>0.524342</td>\n      <td>-0.905311</td>\n      <td>2.135033</td>\n      <td>-0.328243</td>\n      <td>-0.532414</td>\n      <td>-0.040773</td>\n      <td>-0.453500</td>\n      <td>0.307328</td>\n      <td>2.677596</td>\n      <td>-0.482289</td>\n      <td>0.068826</td>\n      <td>-0.405817</td>\n      <td>-0.342477</td>\n      <td>-0.646263</td>\n      <td>1.001963</td>\n    </tr>\n  </tbody>\n</table>\n</div>"
     },
     "execution_count": 33,
     "metadata": {},
     "output_type": "execute_result"
    }
   ],
   "source": [
    "scaler = StandardScaler()\n",
    "data_scaled = scaler.fit_transform(df_cleared.values)\n",
    "df_scaled = pd.DataFrame(data=data_scaled, index=df_cleared.index, columns=df_cleared.columns)\n",
    "df_scaled.head()"
   ],
   "metadata": {
    "collapsed": false,
    "pycharm": {
     "name": "#%%\n"
    }
   }
  },
  {
   "cell_type": "code",
   "execution_count": 34,
   "outputs": [],
   "source": [
    "df_cleared.to_csv('../data/dataset.csv')\n",
    "df_scaled.to_csv('../data/dataset_normalized.csv')"
   ],
   "metadata": {
    "collapsed": false,
    "pycharm": {
     "name": "#%%\n"
    }
   }
  }
 ],
 "metadata": {
  "kernelspec": {
   "display_name": "Python 3",
   "language": "python",
   "name": "python3"
  },
  "language_info": {
   "codemirror_mode": {
    "name": "ipython",
    "version": 2
   },
   "file_extension": ".py",
   "mimetype": "text/x-python",
   "name": "python",
   "nbconvert_exporter": "python",
   "pygments_lexer": "ipython2",
   "version": "2.7.6"
  }
 },
 "nbformat": 4,
 "nbformat_minor": 0
}