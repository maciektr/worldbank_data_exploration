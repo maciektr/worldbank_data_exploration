{
 "cells": [
  {
   "cell_type": "code",
   "execution_count": 5,
   "metadata": {},
   "outputs": [],
   "source": [
    "# Set project directory\n",
    "import os\n",
    "import sys\n",
    "\n",
    "\n",
    "def project_dir():\n",
    "    notebook_path = %pwd\n",
    "    repo_name = \"worldbank_data_exploration\"\n",
    "    repo_folder = notebook_path.split(repo_name)[0]\n",
    "    return os.path.join(repo_folder, repo_name)\n",
    "\n",
    "\n",
    "pwd = os.getenv(\"PWD\", project_dir())\n",
    "os.environ[\"PWD\"] = pwd\n",
    "sys.path.append(pwd)"
   ]
  },
  {
   "cell_type": "code",
   "execution_count": 6,
   "metadata": {},
   "outputs": [],
   "source": [
    "from sklearn.preprocessing import StandardScaler\n",
    "import pandas as pd\n",
    "\n",
    "from data_sources.get import get_indicators"
   ]
  },
  {
   "cell_type": "code",
   "execution_count": 59,
   "metadata": {
    "pycharm": {
     "name": "#%%\n"
    }
   },
   "outputs": [
    {
     "name": "stdout",
     "output_type": "stream",
     "text": [
      "['Population growth (annual %)' 'Inflation, consumer prices (annual %)'\n",
      " 'Life expectancy at birth, total (years)'\n",
      " 'Exports of goods and services (% of GDP)' 'GDP growth (annual %)'\n",
      " 'Unemployment, total (% of total labor force) (modeled ILO estimate)'\n",
      " 'Agriculture, forestry, and fishing, value added (% of GDP)'\n",
      " 'Access to electricity (% of population)' 'Forest area (% of land area)'\n",
      " 'Mortality rate, under-5 (per 1,000 live births)'\n",
      " 'Total natural resources rents (% of GDP)'\n",
      " 'Fertility rate, total (births per woman)'\n",
      " 'Population in the largest city (% of urban population)'\n",
      " 'Merchandise trade (% of GDP)' 'Military expenditure (% of GDP)']\n"
     ]
    }
   ],
   "source": [
    "df = get_indicators(\n",
    "    [\n",
    "        \"SP.POP.GROW\",\n",
    "        \"FP.CPI.TOTL.ZG\",\n",
    "        \"SP.DYN.LE00.IN\",\n",
    "        \"NE.EXP.GNFS.ZS\",\n",
    "        \"NY.GDP.MKTP.KD.ZG\",\n",
    "        \"SL.UEM.TOTL.ZS\",\n",
    "        \"NV.AGR.TOTL.ZS\",\n",
    "        \"EG.ELC.ACCS.ZS\",\n",
    "        \"AG.LND.FRST.ZS\",\n",
    "        \"SH.DYN.MORT\",\n",
    "        \"NY.GDP.TOTL.RT.ZS\",\n",
    "        \"SP.DYN.TFRT.IN\",\n",
    "        \"EN.URB.LCTY.UR.ZS\",\n",
    "        \"TG.VAL.TOTL.GD.ZS\",\n",
    "        \"MS.MIL.XPND.GD.ZS\",\n",
    "    ]\n",
    ")\n",
    "\n",
    "print(df[\"Indicator Name\"].unique())"
   ]
  },
  {
   "cell_type": "code",
   "execution_count": 60,
   "metadata": {
    "pycharm": {
     "name": "#%%\n"
    }
   },
   "outputs": [],
   "source": [
    "df = df.pivot_table(\n",
    "    values=\"Value\", index=\"Year\", columns=[\"Indicator Name\", \"Country Name\"]\n",
    ")"
   ]
  },
  {
   "cell_type": "code",
   "execution_count": 61,
   "metadata": {
    "pycharm": {
     "name": "#%%\n"
    }
   },
   "outputs": [],
   "source": [
    "df_nans = df.loc[slice(2000, 2019)].isnull().sum().reset_index()"
   ]
  },
  {
   "cell_type": "code",
   "execution_count": 62,
   "metadata": {
    "pycharm": {
     "name": "#%%\n"
    }
   },
   "outputs": [
    {
     "data": {
      "text/plain": [
       "array(['Afghanistan', 'Algeria', 'Congo, Rep.', 'Equatorial Guinea',\n",
       "       'Guinea-Bissau', 'Iraq', 'Kiribati', \"Korea, Dem. People's Rep.\",\n",
       "       'Lebanon', 'Liberia', 'Malaysia', 'Sierra Leone', 'South Sudan',\n",
       "       'Turkey', 'Armenia', 'Aruba', 'Bahrain', 'Barbados', 'Bermuda',\n",
       "       'Cayman Islands', 'Central African Republic', 'Djibouti',\n",
       "       'Eritrea', 'French Polynesia', 'Greenland', 'Isle of Man',\n",
       "       'Kosovo', 'Libya', 'Liechtenstein', 'Maldives', 'Nauru',\n",
       "       'San Marino', 'Sint Maarten (Dutch part)', 'Solomon Islands',\n",
       "       'Somalia', 'St. Lucia', 'Tuvalu', 'Venezuela, RB', 'Curacao',\n",
       "       'Dominica', 'Ethiopia', 'Guyana', 'Lao PDR', 'Lesotho', 'Myanmar',\n",
       "       'Papua New Guinea', 'Suriname', 'Yemen, Rep.', 'Andorra',\n",
       "       'Marshall Islands', 'Palau', 'St. Kitts and Nevis', 'Sudan',\n",
       "       'World', 'American Samoa', 'Channel Islands', 'Guam',\n",
       "       'New Caledonia', 'Northern Mariana Islands',\n",
       "       'Turks and Caicos Islands', 'Virgin Islands (U.S.)',\n",
       "       'Bosnia and Herzegovina', 'Comoros', 'Congo, Dem. Rep.', 'Guinea',\n",
       "       'Montenegro', 'Mozambique', 'Namibia', 'Syrian Arab Republic',\n",
       "       'Tajikistan', 'Timor-Leste', 'United Arab Emirates', 'Zimbabwe',\n",
       "       'Serbia', 'Benin', 'Burundi', 'Caribbean small states',\n",
       "       \"Cote d'Ivoire\", 'Cuba', 'Gabon', 'Gambia, The', 'Haiti',\n",
       "       'Mauritania', 'Niger', 'Other small states',\n",
       "       'Pacific island small states', 'Qatar', 'Small states', 'Togo',\n",
       "       'Turkmenistan', 'Uzbekistan', 'Vietnam', 'Zambia', 'Low income'],\n",
       "      dtype=object)"
      ]
     },
     "execution_count": 62,
     "metadata": {},
     "output_type": "execute_result"
    }
   ],
   "source": [
    "countries_with_nans = df_nans[df_nans[0] > 2][\"Country Name\"].unique()\n",
    "countries_with_nans"
   ]
  },
  {
   "cell_type": "markdown",
   "metadata": {},
   "source": []
  },
  {
   "cell_type": "code",
   "execution_count": 63,
   "metadata": {
    "pycharm": {
     "name": "#%%\n"
    }
   },
   "outputs": [],
   "source": [
    "df_cleared = df.loc[2000:2019].stack()\n",
    "df_cleared.drop(index=countries_with_nans, level=1, inplace=True)"
   ]
  },
  {
   "cell_type": "code",
   "execution_count": 64,
   "metadata": {
    "pycharm": {
     "name": "#%%\n"
    }
   },
   "outputs": [],
   "source": [
    "df_cleared.bfill(inplace=True)\n",
    "df_cleared.ffill(inplace=True)"
   ]
  },
  {
   "cell_type": "code",
   "execution_count": 65,
   "metadata": {
    "pycharm": {
     "name": "#%%\n"
    }
   },
   "outputs": [
    {
     "data": {
      "text/html": [
       "<div>\n",
       "<style scoped>\n",
       "    .dataframe tbody tr th:only-of-type {\n",
       "        vertical-align: middle;\n",
       "    }\n",
       "\n",
       "    .dataframe tbody tr th {\n",
       "        vertical-align: top;\n",
       "    }\n",
       "\n",
       "    .dataframe thead th {\n",
       "        text-align: right;\n",
       "    }\n",
       "</style>\n",
       "<table border=\"1\" class=\"dataframe\">\n",
       "  <thead>\n",
       "    <tr style=\"text-align: right;\">\n",
       "      <th></th>\n",
       "      <th>Indicator Name</th>\n",
       "      <th>Access to electricity (% of population)</th>\n",
       "      <th>Agriculture, forestry, and fishing, value added (% of GDP)</th>\n",
       "      <th>Exports of goods and services (% of GDP)</th>\n",
       "      <th>Fertility rate, total (births per woman)</th>\n",
       "      <th>Forest area (% of land area)</th>\n",
       "      <th>GDP growth (annual %)</th>\n",
       "      <th>Inflation, consumer prices (annual %)</th>\n",
       "      <th>Life expectancy at birth, total (years)</th>\n",
       "      <th>Merchandise trade (% of GDP)</th>\n",
       "      <th>Military expenditure (% of GDP)</th>\n",
       "      <th>Mortality rate, under-5 (per 1,000 live births)</th>\n",
       "      <th>Population growth (annual %)</th>\n",
       "      <th>Population in the largest city (% of urban population)</th>\n",
       "      <th>Total natural resources rents (% of GDP)</th>\n",
       "      <th>Unemployment, total (% of total labor force) (modeled ILO estimate)</th>\n",
       "    </tr>\n",
       "    <tr>\n",
       "      <th>Year</th>\n",
       "      <th>Country Name</th>\n",
       "      <th></th>\n",
       "      <th></th>\n",
       "      <th></th>\n",
       "      <th></th>\n",
       "      <th></th>\n",
       "      <th></th>\n",
       "      <th></th>\n",
       "      <th></th>\n",
       "      <th></th>\n",
       "      <th></th>\n",
       "      <th></th>\n",
       "      <th></th>\n",
       "      <th></th>\n",
       "      <th></th>\n",
       "      <th></th>\n",
       "    </tr>\n",
       "  </thead>\n",
       "  <tbody>\n",
       "    <tr>\n",
       "      <th rowspan=\"5\" valign=\"top\">2000</th>\n",
       "      <th>Africa Eastern and Southern</th>\n",
       "      <td>-2.510390</td>\n",
       "      <td>0.337255</td>\n",
       "      <td>-0.516288</td>\n",
       "      <td>2.184692</td>\n",
       "      <td>0.133863</td>\n",
       "      <td>-0.157276</td>\n",
       "      <td>0.429700</td>\n",
       "      <td>-2.472460</td>\n",
       "      <td>-0.577691</td>\n",
       "      <td>0.006317</td>\n",
       "      <td>2.824619</td>\n",
       "      <td>1.231241</td>\n",
       "      <td>-0.043623</td>\n",
       "      <td>0.089659</td>\n",
       "      <td>0.056605</td>\n",
       "    </tr>\n",
       "    <tr>\n",
       "      <th>Africa Western and Central</th>\n",
       "      <td>-1.938826</td>\n",
       "      <td>1.317580</td>\n",
       "      <td>-0.142854</td>\n",
       "      <td>2.526298</td>\n",
       "      <td>-0.512883</td>\n",
       "      <td>-0.007551</td>\n",
       "      <td>-0.257431</td>\n",
       "      <td>-2.724172</td>\n",
       "      <td>-0.447312</td>\n",
       "      <td>-0.722077</td>\n",
       "      <td>3.690481</td>\n",
       "      <td>1.315666</td>\n",
       "      <td>-0.061402</td>\n",
       "      <td>1.361974</td>\n",
       "      <td>-0.502309</td>\n",
       "    </tr>\n",
       "    <tr>\n",
       "      <th>Albania</th>\n",
       "      <td>0.624115</td>\n",
       "      <td>1.691805</td>\n",
       "      <td>-0.730713</td>\n",
       "      <td>-0.365591</td>\n",
       "      <td>-0.174435</td>\n",
       "      <td>0.887072</td>\n",
       "      <td>-0.538223</td>\n",
       "      <td>0.303513</td>\n",
       "      <td>-0.620316</td>\n",
       "      <td>-0.471909</td>\n",
       "      <td>-0.168027</td>\n",
       "      <td>-1.648881</td>\n",
       "      <td>-0.174584</td>\n",
       "      <td>-0.519704</td>\n",
       "      <td>2.310100</td>\n",
       "    </tr>\n",
       "    <tr>\n",
       "      <th>Angola</th>\n",
       "      <td>0.524322</td>\n",
       "      <td>-0.447382</td>\n",
       "      <td>1.807223</td>\n",
       "      <td>2.980123</td>\n",
       "      <td>1.614304</td>\n",
       "      <td>-0.196976</td>\n",
       "      <td>36.241832</td>\n",
       "      <td>-3.054382</td>\n",
       "      <td>1.490656</td>\n",
       "      <td>2.721396</td>\n",
       "      <td>4.637781</td>\n",
       "      <td>1.820571</td>\n",
       "      <td>0.274944</td>\n",
       "      <td>5.672131</td>\n",
       "      <td>-0.680031</td>\n",
       "    </tr>\n",
       "    <tr>\n",
       "      <th>Antigua and Barbuda</th>\n",
       "      <td>0.524322</td>\n",
       "      <td>-0.908996</td>\n",
       "      <td>2.132473</td>\n",
       "      <td>-0.333492</td>\n",
       "      <td>-0.519045</td>\n",
       "      <td>0.680161</td>\n",
       "      <td>-0.456528</td>\n",
       "      <td>0.301677</td>\n",
       "      <td>-0.186298</td>\n",
       "      <td>2.683631</td>\n",
       "      <td>-0.485341</td>\n",
       "      <td>0.484160</td>\n",
       "      <td>0.071380</td>\n",
       "      <td>-0.644785</td>\n",
       "      <td>1.027781</td>\n",
       "    </tr>\n",
       "  </tbody>\n",
       "</table>\n",
       "</div>"
      ],
      "text/plain": [
       "Indicator Name                    Access to electricity (% of population)  \\\n",
       "Year Country Name                                                           \n",
       "2000 Africa Eastern and Southern                                -2.510390   \n",
       "     Africa Western and Central                                 -1.938826   \n",
       "     Albania                                                     0.624115   \n",
       "     Angola                                                      0.524322   \n",
       "     Antigua and Barbuda                                         0.524322   \n",
       "\n",
       "Indicator Name                    Agriculture, forestry, and fishing, value added (% of GDP)  \\\n",
       "Year Country Name                                                                              \n",
       "2000 Africa Eastern and Southern                                           0.337255            \n",
       "     Africa Western and Central                                            1.317580            \n",
       "     Albania                                                               1.691805            \n",
       "     Angola                                                               -0.447382            \n",
       "     Antigua and Barbuda                                                  -0.908996            \n",
       "\n",
       "Indicator Name                    Exports of goods and services (% of GDP)  \\\n",
       "Year Country Name                                                            \n",
       "2000 Africa Eastern and Southern                                 -0.516288   \n",
       "     Africa Western and Central                                  -0.142854   \n",
       "     Albania                                                     -0.730713   \n",
       "     Angola                                                       1.807223   \n",
       "     Antigua and Barbuda                                          2.132473   \n",
       "\n",
       "Indicator Name                    Fertility rate, total (births per woman)  \\\n",
       "Year Country Name                                                            \n",
       "2000 Africa Eastern and Southern                                  2.184692   \n",
       "     Africa Western and Central                                   2.526298   \n",
       "     Albania                                                     -0.365591   \n",
       "     Angola                                                       2.980123   \n",
       "     Antigua and Barbuda                                         -0.333492   \n",
       "\n",
       "Indicator Name                    Forest area (% of land area)  \\\n",
       "Year Country Name                                                \n",
       "2000 Africa Eastern and Southern                      0.133863   \n",
       "     Africa Western and Central                      -0.512883   \n",
       "     Albania                                         -0.174435   \n",
       "     Angola                                           1.614304   \n",
       "     Antigua and Barbuda                             -0.519045   \n",
       "\n",
       "Indicator Name                    GDP growth (annual %)  \\\n",
       "Year Country Name                                         \n",
       "2000 Africa Eastern and Southern              -0.157276   \n",
       "     Africa Western and Central               -0.007551   \n",
       "     Albania                                   0.887072   \n",
       "     Angola                                   -0.196976   \n",
       "     Antigua and Barbuda                       0.680161   \n",
       "\n",
       "Indicator Name                    Inflation, consumer prices (annual %)  \\\n",
       "Year Country Name                                                         \n",
       "2000 Africa Eastern and Southern                               0.429700   \n",
       "     Africa Western and Central                               -0.257431   \n",
       "     Albania                                                  -0.538223   \n",
       "     Angola                                                   36.241832   \n",
       "     Antigua and Barbuda                                      -0.456528   \n",
       "\n",
       "Indicator Name                    Life expectancy at birth, total (years)  \\\n",
       "Year Country Name                                                           \n",
       "2000 Africa Eastern and Southern                                -2.472460   \n",
       "     Africa Western and Central                                 -2.724172   \n",
       "     Albania                                                     0.303513   \n",
       "     Angola                                                     -3.054382   \n",
       "     Antigua and Barbuda                                         0.301677   \n",
       "\n",
       "Indicator Name                    Merchandise trade (% of GDP)  \\\n",
       "Year Country Name                                                \n",
       "2000 Africa Eastern and Southern                     -0.577691   \n",
       "     Africa Western and Central                      -0.447312   \n",
       "     Albania                                         -0.620316   \n",
       "     Angola                                           1.490656   \n",
       "     Antigua and Barbuda                             -0.186298   \n",
       "\n",
       "Indicator Name                    Military expenditure (% of GDP)  \\\n",
       "Year Country Name                                                   \n",
       "2000 Africa Eastern and Southern                         0.006317   \n",
       "     Africa Western and Central                         -0.722077   \n",
       "     Albania                                            -0.471909   \n",
       "     Angola                                              2.721396   \n",
       "     Antigua and Barbuda                                 2.683631   \n",
       "\n",
       "Indicator Name                    Mortality rate, under-5 (per 1,000 live births)  \\\n",
       "Year Country Name                                                                   \n",
       "2000 Africa Eastern and Southern                                         2.824619   \n",
       "     Africa Western and Central                                          3.690481   \n",
       "     Albania                                                            -0.168027   \n",
       "     Angola                                                              4.637781   \n",
       "     Antigua and Barbuda                                                -0.485341   \n",
       "\n",
       "Indicator Name                    Population growth (annual %)  \\\n",
       "Year Country Name                                                \n",
       "2000 Africa Eastern and Southern                      1.231241   \n",
       "     Africa Western and Central                       1.315666   \n",
       "     Albania                                         -1.648881   \n",
       "     Angola                                           1.820571   \n",
       "     Antigua and Barbuda                              0.484160   \n",
       "\n",
       "Indicator Name                    Population in the largest city (% of urban population)  \\\n",
       "Year Country Name                                                                          \n",
       "2000 Africa Eastern and Southern                                          -0.043623        \n",
       "     Africa Western and Central                                           -0.061402        \n",
       "     Albania                                                              -0.174584        \n",
       "     Angola                                                                0.274944        \n",
       "     Antigua and Barbuda                                                   0.071380        \n",
       "\n",
       "Indicator Name                    Total natural resources rents (% of GDP)  \\\n",
       "Year Country Name                                                            \n",
       "2000 Africa Eastern and Southern                                  0.089659   \n",
       "     Africa Western and Central                                   1.361974   \n",
       "     Albania                                                     -0.519704   \n",
       "     Angola                                                       5.672131   \n",
       "     Antigua and Barbuda                                         -0.644785   \n",
       "\n",
       "Indicator Name                    Unemployment, total (% of total labor force) (modeled ILO estimate)  \n",
       "Year Country Name                                                                                      \n",
       "2000 Africa Eastern and Southern                                           0.056605                    \n",
       "     Africa Western and Central                                           -0.502309                    \n",
       "     Albania                                                               2.310100                    \n",
       "     Angola                                                               -0.680031                    \n",
       "     Antigua and Barbuda                                                   1.027781                    "
      ]
     },
     "execution_count": 65,
     "metadata": {},
     "output_type": "execute_result"
    }
   ],
   "source": [
    "scaler = StandardScaler()\n",
    "data_scaled = scaler.fit_transform(df_cleared.values)\n",
    "df_scaled = pd.DataFrame(\n",
    "    data=data_scaled, index=df_cleared.index, columns=df_cleared.columns\n",
    ")\n",
    "df_scaled.head()"
   ]
  }
 ],
 "metadata": {
  "kernelspec": {
   "display_name": "Python 3 (ipykernel)",
   "language": "python",
   "name": "python3"
  },
  "language_info": {
   "codemirror_mode": {
    "name": "ipython",
    "version": 3
   },
   "file_extension": ".py",
   "mimetype": "text/x-python",
   "name": "python",
   "nbconvert_exporter": "python",
   "pygments_lexer": "ipython3",
   "version": "3.9.7"
  }
 },
 "nbformat": 4,
 "nbformat_minor": 4
}
