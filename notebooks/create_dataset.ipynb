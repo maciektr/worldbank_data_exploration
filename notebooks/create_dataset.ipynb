{
 "cells": [
  {
   "cell_type": "code",
   "execution_count": 7,
   "metadata": {},
   "outputs": [],
   "source": [
    "# Set project directory\n",
    "import os\n",
    "import sys\n",
    "\n",
    "\n",
    "def project_dir():\n",
    "    notebook_path = %pwd\n",
    "    repo_name = \"worldbank_data_exploration\"\n",
    "    repo_folder = notebook_path.split(repo_name)[0]\n",
    "    return os.path.join(repo_folder, repo_name)\n",
    "\n",
    "\n",
    "pwd = os.getenv(\"PWD\", project_dir())\n",
    "os.environ[\"PWD\"] = pwd\n",
    "sys.path.append(pwd)"
   ]
  },
  {
   "cell_type": "code",
   "execution_count": 8,
   "metadata": {},
   "outputs": [],
   "source": [
    "from sklearn.preprocessing import StandardScaler\n",
    "import pandas as pd\n",
    "import numpy as np\n",
    "\n",
    "from data_sources.get import get_indicators"
   ]
  },
  {
   "cell_type": "code",
   "execution_count": 9,
   "metadata": {
    "pycharm": {
     "name": "#%%\n"
    }
   },
   "outputs": [
    {
     "name": "stdout",
     "output_type": "stream",
     "text": [
      "['Population growth (annual %)' 'Inflation, consumer prices (annual %)'\n",
      " 'Life expectancy at birth, total (years)'\n",
      " 'Exports of goods and services (% of GDP)' 'GDP growth (annual %)'\n",
      " 'Unemployment, total (% of total labor force) (modeled ILO estimate)'\n",
      " 'Agriculture, forestry, and fishing, value added (% of GDP)'\n",
      " 'Access to electricity (% of population)' 'Forest area (% of land area)'\n",
      " 'Mortality rate, under-5 (per 1,000 live births)'\n",
      " 'Total natural resources rents (% of GDP)'\n",
      " 'Fertility rate, total (births per woman)'\n",
      " 'Population in the largest city (% of urban population)'\n",
      " 'Merchandise trade (% of GDP)' 'Military expenditure (% of GDP)']\n"
     ]
    }
   ],
   "source": [
    "df = get_indicators(\n",
    "    [\n",
    "        \"SP.POP.GROW\",\n",
    "        \"FP.CPI.TOTL.ZG\",\n",
    "        \"SP.DYN.LE00.IN\",\n",
    "        \"NE.EXP.GNFS.ZS\",\n",
    "        \"NY.GDP.MKTP.KD.ZG\",\n",
    "        \"SL.UEM.TOTL.ZS\",\n",
    "        \"NV.AGR.TOTL.ZS\",\n",
    "        \"EG.ELC.ACCS.ZS\",\n",
    "        \"AG.LND.FRST.ZS\",\n",
    "        \"SH.DYN.MORT\",\n",
    "        \"NY.GDP.TOTL.RT.ZS\",\n",
    "        \"SP.DYN.TFRT.IN\",\n",
    "        \"EN.URB.LCTY.UR.ZS\",\n",
    "        \"TG.VAL.TOTL.GD.ZS\",\n",
    "        \"MS.MIL.XPND.GD.ZS\",\n",
    "    ]\n",
    ")\n",
    "\n",
    "print(df[\"Indicator Name\"].unique())"
   ]
  },
  {
   "cell_type": "code",
   "execution_count": 10,
   "metadata": {
    "pycharm": {
     "name": "#%%\n"
    }
   },
   "outputs": [],
   "source": [
    "df = df.pivot_table(\n",
    "    values=\"Value\", index=\"Year\", columns=[\"Indicator Name\", \"Country Name\"]\n",
    ")"
   ]
  },
  {
   "cell_type": "code",
   "execution_count": 11,
   "metadata": {
    "pycharm": {
     "name": "#%%\n"
    }
   },
   "outputs": [],
   "source": [
    "df_nans = df.loc[slice(2000, 2020)].isnull().sum().reset_index()"
   ]
  },
  {
   "cell_type": "code",
   "execution_count": 12,
   "outputs": [
    {
     "data": {
      "text/plain": "(48,)"
     },
     "execution_count": 12,
     "metadata": {},
     "output_type": "execute_result"
    }
   ],
   "source": [
    "aggregates = np.array(\n",
    "        ['Africa Eastern and Southern', 'Africa Western and Central', 'Arab World', 'Caribbean small states',\n",
    "         'Central Europe and the Baltics', 'Early-demographic dividend', 'East Asia & Pacific',\n",
    "         'East Asia & Pacific (excluding high income)', 'East Asia & Pacific (IDA & IBRD countries)', 'Euro area',\n",
    "         'Europe & Central Asia', 'Europe & Central Asia (excluding high income)',\n",
    "         'Europe & Central Asia (IDA & IBRD countries)', 'European Union', 'Fragile and conflict affected situations',\n",
    "         'Heavily indebted poor countries (HIPC)', 'High income', 'IBRD only', 'IDA & IBRD total', 'IDA blend',\n",
    "         'IDA only', 'IDA total', 'Late-demographic dividend', 'Latin America & Caribbean',\n",
    "         'Latin America & Caribbean (excluding high income)', 'Latin America & the Caribbean (IDA & IBRD countries)',\n",
    "         'Least developed countries: UN classification', 'Low & middle income', 'Low income', 'Lower middle income',\n",
    "         'Middle East & North Africa', 'Middle East & North Africa (excluding high income)',\n",
    "         'Middle East & North Africa (IDA & IBRD countries)', 'Middle income', 'North America', 'OECD members',\n",
    "         'Other small states', 'Pacific island small states', 'Post-demographic dividend', 'Pre-demographic dividend',\n",
    "         'Small states', 'South Asia', 'South Asia (IDA & IBRD)', 'Sub-Saharan Africa',\n",
    "         'Sub-Saharan Africa (excluding high income)', 'Sub-Saharan Africa (IDA & IBRD countries)',\n",
    "         'Upper middle income', 'World'])\n",
    "aggregates.shape"
   ],
   "metadata": {
    "collapsed": false,
    "pycharm": {
     "name": "#%%\n"
    }
   }
  },
  {
   "cell_type": "code",
   "execution_count": 13,
   "metadata": {
    "pycharm": {
     "name": "#%%\n"
    }
   },
   "outputs": [
    {
     "data": {
      "text/plain": "array(['Afghanistan', 'Algeria', 'Cabo Verde', 'Congo, Rep.',\n       'Equatorial Guinea', 'Georgia', 'Guinea-Bissau', 'Iraq',\n       'Kiribati', \"Korea, Dem. People's Rep.\", 'Lebanon', 'Liberia',\n       'Malaysia', 'Myanmar', 'Sierra Leone', 'Somalia', 'South Sudan',\n       'Syrian Arab Republic', 'Turkey', 'Tuvalu', 'Armenia', 'Aruba',\n       'Bahrain', 'Barbados', 'Bermuda', 'Cayman Islands',\n       'Central African Republic', 'Djibouti', 'Eritrea',\n       'French Polynesia', 'Greenland', 'Isle of Man', 'Kosovo', 'Libya',\n       'Liechtenstein', 'Maldives', 'Nauru', 'New Caledonia',\n       'San Marino', 'Sint Maarten (Dutch part)', 'Solomon Islands',\n       'St. Lucia', 'Venezuela, RB', 'Curacao', 'Dominica', 'Ethiopia',\n       'Guyana', 'Lao PDR', 'Lesotho', 'Northern Mariana Islands',\n       'Papua New Guinea', 'Suriname', 'Virgin Islands (U.S.)',\n       'Yemen, Rep.', 'Andorra', 'Marshall Islands', 'Palau',\n       'St. Kitts and Nevis', 'Sudan', 'World', 'American Samoa',\n       'Channel Islands', 'Guam', 'Turks and Caicos Islands',\n       'Bosnia and Herzegovina', 'Comoros', 'Congo, Dem. Rep.', 'Guinea',\n       'Montenegro', 'Mozambique', 'Namibia', 'Tajikistan', 'Timor-Leste',\n       'United Arab Emirates', 'Zimbabwe', 'Faroe Islands', 'Serbia',\n       'Benin', 'Burundi', 'Caribbean small states', \"Cote d'Ivoire\",\n       'Cuba', 'Gabon', 'Gambia, The', 'Haiti', 'Mauritania', 'Niger',\n       'Other small states', 'Pacific island small states', 'Qatar',\n       'Small states', 'Togo', 'Turkmenistan', 'Uzbekistan', 'Vietnam',\n       'Zambia', 'Low income'], dtype=object)"
     },
     "execution_count": 13,
     "metadata": {},
     "output_type": "execute_result"
    }
   ],
   "source": [
    "countries_with_nans = df_nans[df_nans[0] > 2][\"Country Name\"].unique()\n",
    "countries_with_nans"
   ]
  },
  {
   "cell_type": "markdown",
   "metadata": {},
   "source": []
  },
  {
   "cell_type": "code",
   "execution_count": 14,
   "metadata": {
    "pycharm": {
     "name": "#%%\n"
    }
   },
   "outputs": [
    {
     "name": "stdout",
     "output_type": "stream",
     "text": [
      "(5565, 15)\n",
      "(4557, 15)\n",
      "(2646, 15)\n"
     ]
    }
   ],
   "source": [
    "df_cleared = df.loc[2000:2020].stack()\n",
    "print(df_cleared.shape)\n",
    "df_cleared.drop(index=aggregates, level=1, inplace=True)\n",
    "print(df_cleared.shape)\n",
    "df_cleared.drop(index=countries_with_nans, level=1, inplace=True)\n",
    "print(df_cleared.shape)"
   ]
  },
  {
   "cell_type": "code",
   "execution_count": 15,
   "metadata": {
    "pycharm": {
     "name": "#%%\n"
    }
   },
   "outputs": [],
   "source": [
    "df_cleared.bfill(inplace=True)\n",
    "df_cleared.ffill(inplace=True)"
   ]
  },
  {
   "cell_type": "code",
   "execution_count": 16,
   "metadata": {
    "pycharm": {
     "name": "#%%\n"
    }
   },
   "outputs": [
    {
     "data": {
      "text/plain": "Indicator Name            Access to electricity (% of population)  \\\nYear Country Name                                                   \n2000 Albania                                             0.532069   \n     Angola                                              0.428605   \n     Antigua and Barbuda                                 0.428605   \n     Argentina                                           0.346849   \n     Australia                                           0.532069   \n\nIndicator Name            Agriculture, forestry, and fishing, value added (% of GDP)  \\\nYear Country Name                                                                      \n2000 Albania                                                       1.642440            \n     Angola                                                       -0.380091            \n     Antigua and Barbuda                                          -0.816532            \n     Argentina                                                    -0.485749            \n     Australia                                                    -0.653662            \n\nIndicator Name            Exports of goods and services (% of GDP)  \\\nYear Country Name                                                    \n2000 Albania                                             -0.778195   \n     Angola                                               1.493636   \n     Antigua and Barbuda                                  1.784783   \n     Argentina                                           -1.076300   \n     Australia                                           -0.800961   \n\nIndicator Name            Fertility rate, total (births per woman)  \\\nYear Country Name                                                    \n2000 Albania                                             -0.324914   \n     Angola                                               3.123411   \n     Antigua and Barbuda                                 -0.291831   \n     Argentina                                           -0.028706   \n     Australia                                           -0.633432   \n\nIndicator Name            Forest area (% of land area)  GDP growth (annual %)  \\\nYear Country Name                                                               \n2000 Albania                                 -0.206285               0.853937   \n     Angola                                   1.425968              -0.023033   \n     Antigua and Barbuda                     -0.520747               0.686550   \n     Argentina                               -0.962979              -0.889192   \n     Australia                               -0.726554               0.170273   \n\nIndicator Name            Inflation, consumer prices (annual %)  \\\nYear Country Name                                                 \n2000 Albania                                          -0.488724   \n     Angola                                           32.087535   \n     Antigua and Barbuda                              -0.416367   \n     Argentina                                        -0.046876   \n     Australia                                        -0.046876   \n\nIndicator Name            Life expectancy at birth, total (years)  \\\nYear Country Name                                                   \n2000 Albania                                             0.191766   \n     Angola                                             -3.293341   \n     Antigua and Barbuda                                 0.189860   \n     Argentina                                           0.143617   \n     Australia                                           0.862432   \n\nIndicator Name            Merchandise trade (% of GDP)  \\\nYear Country Name                                        \n2000 Albania                                 -0.672987   \n     Angola                                   1.223276   \n     Antigua and Barbuda                     -0.283113   \n     Argentina                               -1.156961   \n     Australia                               -0.819284   \n\nIndicator Name            Military expenditure (% of GDP)  \\\nYear Country Name                                           \n2000 Albania                                    -0.376461   \n     Angola                                      2.606720   \n     Antigua and Barbuda                        -0.433002   \n     Argentina                                  -0.433002   \n     Australia                                  -0.038228   \n\nIndicator Name            Mortality rate, under-5 (per 1,000 live births)  \\\nYear Country Name                                                           \n2000 Albania                                                    -0.008484   \n     Angola                                                      5.220919   \n     Antigua and Barbuda                                        -0.353767   \n     Argentina                                                  -0.232770   \n     Australia                                                  -0.628222   \n\nIndicator Name            Population growth (annual %)  \\\nYear Country Name                                        \n2000 Albania                                 -1.526003   \n     Angola                                   1.795222   \n     Antigua and Barbuda                      0.515907   \n     Argentina                               -0.051468   \n     Australia                                0.026302   \n\nIndicator Name            Population in the largest city (% of urban population)  \\\nYear Country Name                                                                  \n2000 Albania                                                      -0.301425        \n     Angola                                                        0.110466        \n     Antigua and Barbuda                                           0.285959        \n     Argentina                                                     0.285959        \n     Australia                                                    -0.427319        \n\nIndicator Name            Total natural resources rents (% of GDP)  \\\nYear Country Name                                                    \n2000 Albania                                             -0.404609   \n     Angola                                               5.660520   \n     Antigua and Barbuda                                 -0.527130   \n     Argentina                                           -0.271592   \n     Australia                                           -0.208376   \n\nIndicator Name            Unemployment, total (% of total labor force) (modeled ILO estimate)  \nYear Country Name                                                                              \n2000 Albania                                                       2.037116                    \n     Angola                                                       -0.642658                    \n     Antigua and Barbuda                                           1.317411                    \n     Argentina                                                     1.317411                    \n     Australia                                                    -0.240638                    ",
      "text/html": "<div>\n<style scoped>\n    .dataframe tbody tr th:only-of-type {\n        vertical-align: middle;\n    }\n\n    .dataframe tbody tr th {\n        vertical-align: top;\n    }\n\n    .dataframe thead th {\n        text-align: right;\n    }\n</style>\n<table border=\"1\" class=\"dataframe\">\n  <thead>\n    <tr style=\"text-align: right;\">\n      <th></th>\n      <th>Indicator Name</th>\n      <th>Access to electricity (% of population)</th>\n      <th>Agriculture, forestry, and fishing, value added (% of GDP)</th>\n      <th>Exports of goods and services (% of GDP)</th>\n      <th>Fertility rate, total (births per woman)</th>\n      <th>Forest area (% of land area)</th>\n      <th>GDP growth (annual %)</th>\n      <th>Inflation, consumer prices (annual %)</th>\n      <th>Life expectancy at birth, total (years)</th>\n      <th>Merchandise trade (% of GDP)</th>\n      <th>Military expenditure (% of GDP)</th>\n      <th>Mortality rate, under-5 (per 1,000 live births)</th>\n      <th>Population growth (annual %)</th>\n      <th>Population in the largest city (% of urban population)</th>\n      <th>Total natural resources rents (% of GDP)</th>\n      <th>Unemployment, total (% of total labor force) (modeled ILO estimate)</th>\n    </tr>\n    <tr>\n      <th>Year</th>\n      <th>Country Name</th>\n      <th></th>\n      <th></th>\n      <th></th>\n      <th></th>\n      <th></th>\n      <th></th>\n      <th></th>\n      <th></th>\n      <th></th>\n      <th></th>\n      <th></th>\n      <th></th>\n      <th></th>\n      <th></th>\n      <th></th>\n    </tr>\n  </thead>\n  <tbody>\n    <tr>\n      <th rowspan=\"5\" valign=\"top\">2000</th>\n      <th>Albania</th>\n      <td>0.532069</td>\n      <td>1.642440</td>\n      <td>-0.778195</td>\n      <td>-0.324914</td>\n      <td>-0.206285</td>\n      <td>0.853937</td>\n      <td>-0.488724</td>\n      <td>0.191766</td>\n      <td>-0.672987</td>\n      <td>-0.376461</td>\n      <td>-0.008484</td>\n      <td>-1.526003</td>\n      <td>-0.301425</td>\n      <td>-0.404609</td>\n      <td>2.037116</td>\n    </tr>\n    <tr>\n      <th>Angola</th>\n      <td>0.428605</td>\n      <td>-0.380091</td>\n      <td>1.493636</td>\n      <td>3.123411</td>\n      <td>1.425968</td>\n      <td>-0.023033</td>\n      <td>32.087535</td>\n      <td>-3.293341</td>\n      <td>1.223276</td>\n      <td>2.606720</td>\n      <td>5.220919</td>\n      <td>1.795222</td>\n      <td>0.110466</td>\n      <td>5.660520</td>\n      <td>-0.642658</td>\n    </tr>\n    <tr>\n      <th>Antigua and Barbuda</th>\n      <td>0.428605</td>\n      <td>-0.816532</td>\n      <td>1.784783</td>\n      <td>-0.291831</td>\n      <td>-0.520747</td>\n      <td>0.686550</td>\n      <td>-0.416367</td>\n      <td>0.189860</td>\n      <td>-0.283113</td>\n      <td>-0.433002</td>\n      <td>-0.353767</td>\n      <td>0.515907</td>\n      <td>0.285959</td>\n      <td>-0.527130</td>\n      <td>1.317411</td>\n    </tr>\n    <tr>\n      <th>Argentina</th>\n      <td>0.346849</td>\n      <td>-0.485749</td>\n      <td>-1.076300</td>\n      <td>-0.028706</td>\n      <td>-0.962979</td>\n      <td>-0.889192</td>\n      <td>-0.046876</td>\n      <td>0.143617</td>\n      <td>-1.156961</td>\n      <td>-0.433002</td>\n      <td>-0.232770</td>\n      <td>-0.051468</td>\n      <td>0.285959</td>\n      <td>-0.271592</td>\n      <td>1.317411</td>\n    </tr>\n    <tr>\n      <th>Australia</th>\n      <td>0.532069</td>\n      <td>-0.653662</td>\n      <td>-0.800961</td>\n      <td>-0.633432</td>\n      <td>-0.726554</td>\n      <td>0.170273</td>\n      <td>-0.046876</td>\n      <td>0.862432</td>\n      <td>-0.819284</td>\n      <td>-0.038228</td>\n      <td>-0.628222</td>\n      <td>0.026302</td>\n      <td>-0.427319</td>\n      <td>-0.208376</td>\n      <td>-0.240638</td>\n    </tr>\n  </tbody>\n</table>\n</div>"
     },
     "execution_count": 16,
     "metadata": {},
     "output_type": "execute_result"
    }
   ],
   "source": [
    "scaler = StandardScaler()\n",
    "data_scaled = scaler.fit_transform(df_cleared.values)\n",
    "df_scaled = pd.DataFrame(\n",
    "    data=data_scaled, index=df_cleared.index, columns=df_cleared.columns\n",
    ")\n",
    "df_scaled.head()"
   ]
  }
 ],
 "metadata": {
  "kernelspec": {
   "display_name": "Python 3 (ipykernel)",
   "language": "python",
   "name": "python3"
  },
  "language_info": {
   "codemirror_mode": {
    "name": "ipython",
    "version": 3
   },
   "file_extension": ".py",
   "mimetype": "text/x-python",
   "name": "python",
   "nbconvert_exporter": "python",
   "pygments_lexer": "ipython3",
   "version": "3.9.7"
  }
 },
 "nbformat": 4,
 "nbformat_minor": 4
}