{
 "cells": [
  {
   "cell_type": "code",
   "execution_count": 13,
   "metadata": {},
   "outputs": [],
   "source": [
    "# Set project directory\n",
    "import os\n",
    "import sys\n",
    "\n",
    "\n",
    "def project_dir():\n",
    "    notebook_path = %pwd\n",
    "    repo_name = \"worldbank_data_exploration\"\n",
    "    repo_folder = notebook_path.split(repo_name)[0]\n",
    "    return os.path.join(repo_folder, repo_name)\n",
    "\n",
    "\n",
    "pwd = os.getenv(\"PWD\", project_dir())\n",
    "os.environ[\"PWD\"] = pwd\n",
    "sys.path.append(pwd)"
   ]
  },
  {
   "cell_type": "code",
   "execution_count": 14,
   "metadata": {},
   "outputs": [],
   "source": [
    "from sklearn.preprocessing import StandardScaler\n",
    "import pandas as pd\n",
    "import numpy as np\n",
    "\n",
    "from data_sources.get import get_indicators"
   ]
  },
  {
   "cell_type": "code",
   "execution_count": 15,
   "metadata": {
    "pycharm": {
     "name": "#%%\n"
    }
   },
   "outputs": [
    {
     "name": "stdout",
     "output_type": "stream",
     "text": [
      "['Population growth (annual %)' 'Inflation, consumer prices (annual %)'\n",
      " 'Life expectancy at birth, total (years)'\n",
      " 'Exports of goods and services (% of GDP)' 'GDP growth (annual %)'\n",
      " 'Unemployment, total (% of total labor force) (modeled ILO estimate)'\n",
      " 'Agriculture, forestry, and fishing, value added (% of GDP)'\n",
      " 'Access to electricity (% of population)' 'Forest area (% of land area)'\n",
      " 'Mortality rate, under-5 (per 1,000 live births)'\n",
      " 'Total natural resources rents (% of GDP)'\n",
      " 'Fertility rate, total (births per woman)'\n",
      " 'Population in the largest city (% of urban population)'\n",
      " 'Merchandise trade (% of GDP)' 'Military expenditure (% of GDP)']\n"
     ]
    }
   ],
   "source": [
    "df = get_indicators(\n",
    "    [\n",
    "        \"SP.POP.GROW\",\n",
    "        \"FP.CPI.TOTL.ZG\",\n",
    "        \"SP.DYN.LE00.IN\",\n",
    "        \"NE.EXP.GNFS.ZS\",\n",
    "        \"NY.GDP.MKTP.KD.ZG\",\n",
    "        \"SL.UEM.TOTL.ZS\",\n",
    "        \"NV.AGR.TOTL.ZS\",\n",
    "        \"EG.ELC.ACCS.ZS\",\n",
    "        \"AG.LND.FRST.ZS\",\n",
    "        \"SH.DYN.MORT\",\n",
    "        \"NY.GDP.TOTL.RT.ZS\",\n",
    "        \"SP.DYN.TFRT.IN\",\n",
    "        \"EN.URB.LCTY.UR.ZS\",\n",
    "        \"TG.VAL.TOTL.GD.ZS\",\n",
    "        \"MS.MIL.XPND.GD.ZS\",\n",
    "    ]\n",
    ")\n",
    "\n",
    "print(df[\"Indicator Name\"].unique())"
   ]
  },
  {
   "cell_type": "code",
   "execution_count": 16,
   "metadata": {
    "pycharm": {
     "name": "#%%\n"
    }
   },
   "outputs": [],
   "source": [
    "df = df.pivot_table(\n",
    "    values=\"Value\", index=\"Year\", columns=[\"Indicator Name\", \"Country Name\"]\n",
    ")"
   ]
  },
  {
   "cell_type": "code",
   "execution_count": 17,
   "metadata": {
    "pycharm": {
     "name": "#%%\n"
    }
   },
   "outputs": [],
   "source": [
    "df_nans = df.loc[slice(2000, 2020)].isnull().sum().reset_index()"
   ]
  },
  {
   "cell_type": "code",
   "execution_count": 18,
   "outputs": [
    {
     "data": {
      "text/plain": "(48,)"
     },
     "execution_count": 18,
     "metadata": {},
     "output_type": "execute_result"
    }
   ],
   "source": [
    "aggregates = np.array(\n",
    "    [\n",
    "        \"Africa Eastern and Southern\",\n",
    "        \"Africa Western and Central\",\n",
    "        \"Arab World\",\n",
    "        \"Caribbean small states\",\n",
    "        \"Central Europe and the Baltics\",\n",
    "        \"Early-demographic dividend\",\n",
    "        \"East Asia & Pacific\",\n",
    "        \"East Asia & Pacific (excluding high income)\",\n",
    "        \"East Asia & Pacific (IDA & IBRD countries)\",\n",
    "        \"Euro area\",\n",
    "        \"Europe & Central Asia\",\n",
    "        \"Europe & Central Asia (excluding high income)\",\n",
    "        \"Europe & Central Asia (IDA & IBRD countries)\",\n",
    "        \"European Union\",\n",
    "        \"Fragile and conflict affected situations\",\n",
    "        \"Heavily indebted poor countries (HIPC)\",\n",
    "        \"High income\",\n",
    "        \"IBRD only\",\n",
    "        \"IDA & IBRD total\",\n",
    "        \"IDA blend\",\n",
    "        \"IDA only\",\n",
    "        \"IDA total\",\n",
    "        \"Late-demographic dividend\",\n",
    "        \"Latin America & Caribbean\",\n",
    "        \"Latin America & Caribbean (excluding high income)\",\n",
    "        \"Latin America & the Caribbean (IDA & IBRD countries)\",\n",
    "        \"Least developed countries: UN classification\",\n",
    "        \"Low & middle income\",\n",
    "        \"Low income\",\n",
    "        \"Lower middle income\",\n",
    "        \"Middle East & North Africa\",\n",
    "        \"Middle East & North Africa (excluding high income)\",\n",
    "        \"Middle East & North Africa (IDA & IBRD countries)\",\n",
    "        \"Middle income\",\n",
    "        \"North America\",\n",
    "        \"OECD members\",\n",
    "        \"Other small states\",\n",
    "        \"Pacific island small states\",\n",
    "        \"Post-demographic dividend\",\n",
    "        \"Pre-demographic dividend\",\n",
    "        \"Small states\",\n",
    "        \"South Asia\",\n",
    "        \"South Asia (IDA & IBRD)\",\n",
    "        \"Sub-Saharan Africa\",\n",
    "        \"Sub-Saharan Africa (excluding high income)\",\n",
    "        \"Sub-Saharan Africa (IDA & IBRD countries)\",\n",
    "        \"Upper middle income\",\n",
    "        \"World\",\n",
    "    ]\n",
    ")\n",
    "\n",
    "aggregates.shape"
   ],
   "metadata": {
    "collapsed": false,
    "pycharm": {
     "name": "#%%\n"
    }
   }
  },
  {
   "cell_type": "code",
   "execution_count": 19,
   "metadata": {
    "pycharm": {
     "name": "#%%\n"
    }
   },
   "outputs": [
    {
     "data": {
      "text/plain": "array(['Afghanistan', 'Algeria', 'Cabo Verde', 'Congo, Rep.',\n       'Equatorial Guinea', 'Georgia', 'Guinea-Bissau', 'Iraq',\n       'Kiribati', \"Korea, Dem. People's Rep.\", 'Lebanon', 'Liberia',\n       'Malaysia', 'Myanmar', 'Sierra Leone', 'Somalia', 'South Sudan',\n       'Syrian Arab Republic', 'Turkey', 'Tuvalu', 'Armenia', 'Aruba',\n       'Bahrain', 'Barbados', 'Bermuda', 'Cayman Islands',\n       'Central African Republic', 'Djibouti', 'Eritrea',\n       'French Polynesia', 'Greenland', 'Isle of Man', 'Kosovo', 'Libya',\n       'Liechtenstein', 'Maldives', 'Nauru', 'New Caledonia',\n       'San Marino', 'Sint Maarten (Dutch part)', 'Solomon Islands',\n       'St. Lucia', 'Venezuela, RB', 'Curacao', 'Dominica', 'Ethiopia',\n       'Guyana', 'Lao PDR', 'Lesotho', 'Northern Mariana Islands',\n       'Papua New Guinea', 'Suriname', 'Virgin Islands (U.S.)',\n       'Yemen, Rep.', 'Andorra', 'Marshall Islands', 'Palau',\n       'St. Kitts and Nevis', 'Sudan', 'World', 'American Samoa',\n       'Channel Islands', 'Guam', 'Turks and Caicos Islands',\n       'Bosnia and Herzegovina', 'Comoros', 'Congo, Dem. Rep.', 'Guinea',\n       'Montenegro', 'Mozambique', 'Namibia', 'Tajikistan', 'Timor-Leste',\n       'United Arab Emirates', 'Zimbabwe', 'Faroe Islands', 'Serbia',\n       'Benin', 'Burundi', 'Caribbean small states', \"Cote d'Ivoire\",\n       'Cuba', 'Gabon', 'Gambia, The', 'Haiti', 'Mauritania', 'Niger',\n       'Other small states', 'Pacific island small states', 'Qatar',\n       'Small states', 'Togo', 'Turkmenistan', 'Uzbekistan', 'Vietnam',\n       'Zambia', 'Low income'], dtype=object)"
     },
     "execution_count": 19,
     "metadata": {},
     "output_type": "execute_result"
    }
   ],
   "source": [
    "countries_with_nans = df_nans[df_nans[0] > 2][\"Country Name\"].unique()\n",
    "countries_with_nans"
   ]
  },
  {
   "cell_type": "markdown",
   "metadata": {},
   "source": []
  },
  {
   "cell_type": "code",
   "execution_count": 20,
   "metadata": {
    "pycharm": {
     "name": "#%%\n"
    }
   },
   "outputs": [
    {
     "name": "stdout",
     "output_type": "stream",
     "text": [
      "(5565, 15)\n",
      "(3528, 15)\n",
      "(2646, 15)\n"
     ]
    }
   ],
   "source": [
    "df_cleared = df.loc[2000:2020].stack()\n",
    "print(df_cleared.shape)\n",
    "df_cleared.drop(index=countries_with_nans, level=1, inplace=True)\n",
    "print(df_cleared.shape)\n",
    "df_cleared.drop(index=aggregates, level=1, inplace=True)\n",
    "print(df_cleared.shape)"
   ]
  },
  {
   "cell_type": "code",
   "execution_count": 21,
   "metadata": {
    "pycharm": {
     "name": "#%%\n"
    }
   },
   "outputs": [],
   "source": [
    "df_cleared = df_cleared.unstack()\n",
    "df_cleared.bfill(inplace=True)\n",
    "df_cleared.ffill(inplace=True)\n",
    "df_cleared = df_cleared.stack()\n",
    "df_cleared.dropna(axis=0, inplace=True)"
   ]
  },
  {
   "cell_type": "code",
   "execution_count": 22,
   "metadata": {
    "pycharm": {
     "name": "#%%\n"
    }
   },
   "outputs": [
    {
     "data": {
      "text/plain": "Indicator Name     Access to electricity (% of population)  \\\nYear Country Name                                            \n2000 Albania                                      0.544732   \n     Angola                                      -2.588390   \n     Australia                                    0.544732   \n     Austria                                      0.544732   \n     Azerbaijan                                   0.501973   \n\nIndicator Name     Agriculture, forestry, and fishing, value added (% of GDP)  \\\nYear Country Name                                                               \n2000 Albania                                                1.576034            \n     Angola                                                -0.400709            \n     Australia                                             -0.668088            \n     Austria                                               -0.821985            \n     Azerbaijan                                             0.691981            \n\nIndicator Name     Exports of goods and services (% of GDP)  \\\nYear Country Name                                             \n2000 Albania                                      -0.763197   \n     Angola                                        2.018710   \n     Australia                                    -0.791075   \n     Austria                                       0.165737   \n     Azerbaijan                                    0.038761   \n\nIndicator Name     Fertility rate, total (births per woman)  \\\nYear Country Name                                             \n2000 Albania                                      -0.275781   \n     Angola                                        3.022029   \n     Australia                                    -0.570833   \n     Austria                                      -0.862205   \n     Azerbaijan                                   -0.391300   \n\nIndicator Name     Forest area (% of land area)  GDP growth (annual %)  \\\nYear Country Name                                                        \n2000 Albania                          -0.143781               0.874516   \n     Angola                            1.661105              -0.094674   \n     Australia                        -0.719076               0.118960   \n     Austria                           0.825779              -0.014705   \n     Azerbaijan                       -0.993436               1.909004   \n\nIndicator Name     Inflation, consumer prices (annual %)  \\\nYear Country Name                                          \n2000 Albania                                   -0.467139   \n     Angola                                    28.546044   \n     Australia                                 -0.073618   \n     Austria                                   -0.262241   \n     Azerbaijan                                -0.310443   \n\nIndicator Name     Life expectancy at birth, total (years)  \\\nYear Country Name                                            \n2000 Albania                                      0.184969   \n     Angola                                      -3.222392   \n     Australia                                    0.840674   \n     Austria                                      0.703138   \n     Azerbaijan                                  -0.708325   \n\nIndicator Name     Merchandise trade (% of GDP)  \\\nYear Country Name                                 \n2000 Albania                          -0.688447   \n     Angola                            1.431515   \n     Australia                        -0.852002   \n     Austria                           0.155866   \n     Azerbaijan                       -0.258386   \n\nIndicator Name     Military expenditure (% of GDP)  \\\nYear Country Name                                    \n2000 Albania                             -0.418478   \n     Angola                               2.809607   \n     Australia                           -0.052478   \n     Austria                             -0.585358   \n     Azerbaijan                           0.222279   \n\nIndicator Name     Mortality rate, under-5 (per 1,000 live births)  \\\nYear Country Name                                                    \n2000 Albania                                             -0.050123   \n     Angola                                               4.808748   \n     Australia                                           -0.625949   \n     Austria                                             -0.645143   \n     Azerbaijan                                           1.244114   \n\nIndicator Name     Population growth (annual %)  \\\nYear Country Name                                 \n2000 Albania                          -1.460451   \n     Angola                            1.720622   \n     Australia                         0.026348   \n     Austria                          -0.747111   \n     Azerbaijan                       -0.274934   \n\nIndicator Name     Population in the largest city (% of urban population)  \\\nYear Country Name                                                           \n2000 Albania                                               -0.222566        \n     Angola                                                 0.303242        \n     Australia                                             -0.383277        \n     Austria                                                0.157934        \n     Azerbaijan                                             0.877575        \n\nIndicator Name     Total natural resources rents (% of GDP)  \\\nYear Country Name                                             \n2000 Albania                                      -0.464978   \n     Angola                                        5.143852   \n     Australia                                    -0.283508   \n     Austria                                      -0.562241   \n     Azerbaijan                                    2.922678   \n\nIndicator Name     Unemployment, total (% of total labor force) (modeled ILO estimate)  \nYear Country Name                                                                       \n2000 Albania                                                2.308310                    \n     Angola                                                -0.605188                    \n     Australia                                             -0.168105                    \n     Austria                                               -0.476977                    \n     Azerbaijan                                             0.900320                    ",
      "text/html": "<div>\n<style scoped>\n    .dataframe tbody tr th:only-of-type {\n        vertical-align: middle;\n    }\n\n    .dataframe tbody tr th {\n        vertical-align: top;\n    }\n\n    .dataframe thead th {\n        text-align: right;\n    }\n</style>\n<table border=\"1\" class=\"dataframe\">\n  <thead>\n    <tr style=\"text-align: right;\">\n      <th></th>\n      <th>Indicator Name</th>\n      <th>Access to electricity (% of population)</th>\n      <th>Agriculture, forestry, and fishing, value added (% of GDP)</th>\n      <th>Exports of goods and services (% of GDP)</th>\n      <th>Fertility rate, total (births per woman)</th>\n      <th>Forest area (% of land area)</th>\n      <th>GDP growth (annual %)</th>\n      <th>Inflation, consumer prices (annual %)</th>\n      <th>Life expectancy at birth, total (years)</th>\n      <th>Merchandise trade (% of GDP)</th>\n      <th>Military expenditure (% of GDP)</th>\n      <th>Mortality rate, under-5 (per 1,000 live births)</th>\n      <th>Population growth (annual %)</th>\n      <th>Population in the largest city (% of urban population)</th>\n      <th>Total natural resources rents (% of GDP)</th>\n      <th>Unemployment, total (% of total labor force) (modeled ILO estimate)</th>\n    </tr>\n    <tr>\n      <th>Year</th>\n      <th>Country Name</th>\n      <th></th>\n      <th></th>\n      <th></th>\n      <th></th>\n      <th></th>\n      <th></th>\n      <th></th>\n      <th></th>\n      <th></th>\n      <th></th>\n      <th></th>\n      <th></th>\n      <th></th>\n      <th></th>\n      <th></th>\n    </tr>\n  </thead>\n  <tbody>\n    <tr>\n      <th rowspan=\"5\" valign=\"top\">2000</th>\n      <th>Albania</th>\n      <td>0.544732</td>\n      <td>1.576034</td>\n      <td>-0.763197</td>\n      <td>-0.275781</td>\n      <td>-0.143781</td>\n      <td>0.874516</td>\n      <td>-0.467139</td>\n      <td>0.184969</td>\n      <td>-0.688447</td>\n      <td>-0.418478</td>\n      <td>-0.050123</td>\n      <td>-1.460451</td>\n      <td>-0.222566</td>\n      <td>-0.464978</td>\n      <td>2.308310</td>\n    </tr>\n    <tr>\n      <th>Angola</th>\n      <td>-2.588390</td>\n      <td>-0.400709</td>\n      <td>2.018710</td>\n      <td>3.022029</td>\n      <td>1.661105</td>\n      <td>-0.094674</td>\n      <td>28.546044</td>\n      <td>-3.222392</td>\n      <td>1.431515</td>\n      <td>2.809607</td>\n      <td>4.808748</td>\n      <td>1.720622</td>\n      <td>0.303242</td>\n      <td>5.143852</td>\n      <td>-0.605188</td>\n    </tr>\n    <tr>\n      <th>Australia</th>\n      <td>0.544732</td>\n      <td>-0.668088</td>\n      <td>-0.791075</td>\n      <td>-0.570833</td>\n      <td>-0.719076</td>\n      <td>0.118960</td>\n      <td>-0.073618</td>\n      <td>0.840674</td>\n      <td>-0.852002</td>\n      <td>-0.052478</td>\n      <td>-0.625949</td>\n      <td>0.026348</td>\n      <td>-0.383277</td>\n      <td>-0.283508</td>\n      <td>-0.168105</td>\n    </tr>\n    <tr>\n      <th>Austria</th>\n      <td>0.544732</td>\n      <td>-0.821985</td>\n      <td>0.165737</td>\n      <td>-0.862205</td>\n      <td>0.825779</td>\n      <td>-0.014705</td>\n      <td>-0.262241</td>\n      <td>0.703138</td>\n      <td>0.155866</td>\n      <td>-0.585358</td>\n      <td>-0.645143</td>\n      <td>-0.747111</td>\n      <td>0.157934</td>\n      <td>-0.562241</td>\n      <td>-0.476977</td>\n    </tr>\n    <tr>\n      <th>Azerbaijan</th>\n      <td>0.501973</td>\n      <td>0.691981</td>\n      <td>0.038761</td>\n      <td>-0.391300</td>\n      <td>-0.993436</td>\n      <td>1.909004</td>\n      <td>-0.310443</td>\n      <td>-0.708325</td>\n      <td>-0.258386</td>\n      <td>0.222279</td>\n      <td>1.244114</td>\n      <td>-0.274934</td>\n      <td>0.877575</td>\n      <td>2.922678</td>\n      <td>0.900320</td>\n    </tr>\n  </tbody>\n</table>\n</div>"
     },
     "execution_count": 22,
     "metadata": {},
     "output_type": "execute_result"
    }
   ],
   "source": [
    "scaler = StandardScaler()\n",
    "data_scaled = scaler.fit_transform(df_cleared.values)\n",
    "df_scaled = pd.DataFrame(\n",
    "    data=data_scaled, index=df_cleared.index, columns=df_cleared.columns\n",
    ")\n",
    "df_scaled.head()"
   ]
  },
  {
   "cell_type": "code",
   "execution_count": 23,
   "outputs": [
    {
     "name": "stdout",
     "output_type": "stream",
     "text": [
      "0\n"
     ]
    },
    {
     "data": {
      "text/plain": "Indicator Name       Access to electricity (% of population)  \\\nYear Country Name                                              \n2000 Albania                                      100.000000   \n     Angola                                        20.000000   \n     Australia                                    100.000000   \n     Austria                                      100.000000   \n     Azerbaijan                                    98.908222   \n...                                                      ...   \n2020 Uganda                                        41.300000   \n     Ukraine                                      100.000000   \n     United Kingdom                               100.000000   \n     United States                                100.000000   \n     Uruguay                                       99.900000   \n\nIndicator Name       Agriculture, forestry, and fishing, value added (% of GDP)  \\\nYear Country Name                                                                 \n2000 Albania                                                 24.515412            \n     Angola                                                   5.664690            \n     Australia                                                3.114903            \n     Austria                                                  1.647300            \n     Azerbaijan                                              16.084865            \n...                                                                ...            \n2020 Uganda                                                  23.929034            \n     Ukraine                                                  9.266236            \n     United Kingdom                                           0.581796            \n     United States                                            0.916865            \n     Uruguay                                                  7.481413            \n\nIndicator Name       Exports of goods and services (% of GDP)  \\\nYear Country Name                                               \n2000 Albania                                        20.115286   \n     Angola                                         89.685831   \n     Australia                                      19.418124   \n     Austria                                        43.346274   \n     Azerbaijan                                     40.170831   \n...                                                       ...   \n2020 Uganda                                         15.414799   \n     Ukraine                                        39.061358   \n     United Kingdom                                 28.120834   \n     United States                                  10.134143   \n     Uruguay                                        25.373271   \n\nIndicator Name       Fertility rate, total (births per woman)  \\\nYear Country Name                                               \n2000 Albania                                            2.157   \n     Angola                                             6.639   \n     Australia                                          1.756   \n     Austria                                            1.360   \n     Azerbaijan                                         2.000   \n...                                                       ...   \n2020 Uganda                                             4.824   \n     Ukraine                                            1.228   \n     United Kingdom                                     1.650   \n     United States                                      1.705   \n     Uruguay                                            1.963   \n\nIndicator Name       Forest area (% of land area)  GDP growth (annual %)  \\\nYear Country Name                                                          \n2000 Albania                            28.076642               6.946217   \n     Angola                             62.331443               3.054624   \n     Australia                          17.158156               3.912428   \n     Austria                            46.477840               3.375722   \n     Azerbaijan                         11.951093              11.100000   \n...                                           ...                    ...   \n2020 Uganda                             11.659186               2.951306   \n     Ukraine                            16.724197              -4.000006   \n     United Kingdom                     13.185632              -9.396160   \n     United States                      33.866926              -3.404592   \n     Uruguay                            11.604388              -5.858721   \n\nIndicator Name       Inflation, consumer prices (annual %)  \\\nYear Country Name                                            \n2000 Albania                                      0.050018   \n     Angola                                     324.996872   \n     Australia                                    4.457435   \n     Austria                                      2.344863   \n     Azerbaijan                                   1.805003   \n...                                                    ...   \n2020 Uganda                                       3.794423   \n     Ukraine                                      2.732492   \n     United Kingdom                               0.989487   \n     United States                                1.233584   \n     Uruguay                                      9.756406   \n\nIndicator Name       Life expectancy at birth, total (years)  \\\nYear Country Name                                              \n2000 Albania                                       73.955000   \n     Angola                                        46.522000   \n     Australia                                     79.234146   \n     Austria                                       78.126829   \n     Azerbaijan                                    66.763000   \n...                                                      ...   \n2020 Uganda                                        63.368000   \n     Ukraine                                       71.827317   \n     United Kingdom                                81.204878   \n     United States                                 78.787805   \n     Uruguay                                       77.911000   \n\nIndicator Name       Merchandise trade (% of GDP)  \\\nYear Country Name                                   \n2000 Albania                            38.846609   \n     Angola                            120.059565   \n     Australia                          32.581028   \n     Austria                            71.191137   \n     Azerbaijan                         55.321668   \n...                                           ...   \n2020 Uganda                             32.978400   \n     Ukraine                            66.334193   \n     United Kingdom                     37.662927   \n     United States                      18.322586   \n     Uruguay                            26.890388   \n\nIndicator Name       Military expenditure (% of GDP)  \\\nYear Country Name                                      \n2000 Albania                                1.246360   \n     Angola                                 6.392603   \n     Australia                              1.829842   \n     Austria                                0.980319   \n     Azerbaijan                             2.267862   \n...                                              ...   \n2020 Uganda                                 2.597145   \n     Ukraine                                4.129198   \n     United Kingdom                         2.246547   \n     United States                          3.741160   \n     Uruguay                                2.321460   \n\nIndicator Name       Mortality rate, under-5 (per 1,000 live births)  \\\nYear Country Name                                                      \n2000 Albania                                                    27.2   \n     Angola                                                    204.4   \n     Australia                                                   6.2   \n     Austria                                                     5.5   \n     Azerbaijan                                                 74.4   \n...                                                              ...   \n2020 Uganda                                                     43.3   \n     Ukraine                                                     8.1   \n     United Kingdom                                              4.2   \n     United States                                               6.3   \n     Uruguay                                                     6.2   \n\nIndicator Name       Population growth (annual %)  \\\nYear Country Name                                   \n2000 Albania                            -0.637357   \n     Angola                              3.277215   \n     Australia                           1.192272   \n     Austria                             0.240467   \n     Azerbaijan                          0.821520   \n...                                           ...   \n2020 Uganda                              3.269713   \n     Ukraine                            -0.568252   \n     United Kingdom                      0.565405   \n     United States                       0.350911   \n     Uruguay                             0.345933   \n\nIndicator Name       Population in the largest city (% of urban population)  \\\nYear Country Name                                                             \n2000 Albania                                                 26.007317        \n     Angola                                                  34.447381        \n     Australia                                               23.427632        \n     Austria                                                 32.114961        \n     Azerbaijan                                              43.666362        \n...                                                                ...        \n2020 Uganda                                                  28.897000        \n     Ukraine                                                  9.726731        \n     United Kingdom                                          16.497756        \n     United States                                            6.903812        \n     Uruguay                                                 52.815701        \n\nIndicator Name       Total natural resources rents (% of GDP)  \\\nYear Country Name                                               \n2000 Albania                                         1.097961   \n     Angola                                         55.450073   \n     Australia                                       2.856484   \n     Austria                                         0.155432   \n     Azerbaijan                                     33.925883   \n...                                                       ...   \n2020 Uganda                                          6.120056   \n     Ukraine                                         1.819544   \n     United Kingdom                                  0.590433   \n     United States                                   0.574734   \n     Uruguay                                         1.645427   \n\nIndicator Name       Unemployment, total (% of total labor force) (modeled ILO estimate)  \nYear Country Name                                                                         \n2000 Albania                                                    19.028                    \n     Angola                                                      4.030                    \n     Australia                                                   6.280                    \n     Austria                                                     4.690                    \n     Azerbaijan                                                 11.780                    \n...                                                                ...                    \n2020 Uganda                                                      2.768                    \n     Ukraine                                                     9.132                    \n     United Kingdom                                              4.472                    \n     United States                                               8.050                    \n     Uruguay                                                    10.350                    \n\n[1953 rows x 15 columns]",
      "text/html": "<div>\n<style scoped>\n    .dataframe tbody tr th:only-of-type {\n        vertical-align: middle;\n    }\n\n    .dataframe tbody tr th {\n        vertical-align: top;\n    }\n\n    .dataframe thead th {\n        text-align: right;\n    }\n</style>\n<table border=\"1\" class=\"dataframe\">\n  <thead>\n    <tr style=\"text-align: right;\">\n      <th></th>\n      <th>Indicator Name</th>\n      <th>Access to electricity (% of population)</th>\n      <th>Agriculture, forestry, and fishing, value added (% of GDP)</th>\n      <th>Exports of goods and services (% of GDP)</th>\n      <th>Fertility rate, total (births per woman)</th>\n      <th>Forest area (% of land area)</th>\n      <th>GDP growth (annual %)</th>\n      <th>Inflation, consumer prices (annual %)</th>\n      <th>Life expectancy at birth, total (years)</th>\n      <th>Merchandise trade (% of GDP)</th>\n      <th>Military expenditure (% of GDP)</th>\n      <th>Mortality rate, under-5 (per 1,000 live births)</th>\n      <th>Population growth (annual %)</th>\n      <th>Population in the largest city (% of urban population)</th>\n      <th>Total natural resources rents (% of GDP)</th>\n      <th>Unemployment, total (% of total labor force) (modeled ILO estimate)</th>\n    </tr>\n    <tr>\n      <th>Year</th>\n      <th>Country Name</th>\n      <th></th>\n      <th></th>\n      <th></th>\n      <th></th>\n      <th></th>\n      <th></th>\n      <th></th>\n      <th></th>\n      <th></th>\n      <th></th>\n      <th></th>\n      <th></th>\n      <th></th>\n      <th></th>\n      <th></th>\n    </tr>\n  </thead>\n  <tbody>\n    <tr>\n      <th rowspan=\"5\" valign=\"top\">2000</th>\n      <th>Albania</th>\n      <td>100.000000</td>\n      <td>24.515412</td>\n      <td>20.115286</td>\n      <td>2.157</td>\n      <td>28.076642</td>\n      <td>6.946217</td>\n      <td>0.050018</td>\n      <td>73.955000</td>\n      <td>38.846609</td>\n      <td>1.246360</td>\n      <td>27.2</td>\n      <td>-0.637357</td>\n      <td>26.007317</td>\n      <td>1.097961</td>\n      <td>19.028</td>\n    </tr>\n    <tr>\n      <th>Angola</th>\n      <td>20.000000</td>\n      <td>5.664690</td>\n      <td>89.685831</td>\n      <td>6.639</td>\n      <td>62.331443</td>\n      <td>3.054624</td>\n      <td>324.996872</td>\n      <td>46.522000</td>\n      <td>120.059565</td>\n      <td>6.392603</td>\n      <td>204.4</td>\n      <td>3.277215</td>\n      <td>34.447381</td>\n      <td>55.450073</td>\n      <td>4.030</td>\n    </tr>\n    <tr>\n      <th>Australia</th>\n      <td>100.000000</td>\n      <td>3.114903</td>\n      <td>19.418124</td>\n      <td>1.756</td>\n      <td>17.158156</td>\n      <td>3.912428</td>\n      <td>4.457435</td>\n      <td>79.234146</td>\n      <td>32.581028</td>\n      <td>1.829842</td>\n      <td>6.2</td>\n      <td>1.192272</td>\n      <td>23.427632</td>\n      <td>2.856484</td>\n      <td>6.280</td>\n    </tr>\n    <tr>\n      <th>Austria</th>\n      <td>100.000000</td>\n      <td>1.647300</td>\n      <td>43.346274</td>\n      <td>1.360</td>\n      <td>46.477840</td>\n      <td>3.375722</td>\n      <td>2.344863</td>\n      <td>78.126829</td>\n      <td>71.191137</td>\n      <td>0.980319</td>\n      <td>5.5</td>\n      <td>0.240467</td>\n      <td>32.114961</td>\n      <td>0.155432</td>\n      <td>4.690</td>\n    </tr>\n    <tr>\n      <th>Azerbaijan</th>\n      <td>98.908222</td>\n      <td>16.084865</td>\n      <td>40.170831</td>\n      <td>2.000</td>\n      <td>11.951093</td>\n      <td>11.100000</td>\n      <td>1.805003</td>\n      <td>66.763000</td>\n      <td>55.321668</td>\n      <td>2.267862</td>\n      <td>74.4</td>\n      <td>0.821520</td>\n      <td>43.666362</td>\n      <td>33.925883</td>\n      <td>11.780</td>\n    </tr>\n    <tr>\n      <th>...</th>\n      <th>...</th>\n      <td>...</td>\n      <td>...</td>\n      <td>...</td>\n      <td>...</td>\n      <td>...</td>\n      <td>...</td>\n      <td>...</td>\n      <td>...</td>\n      <td>...</td>\n      <td>...</td>\n      <td>...</td>\n      <td>...</td>\n      <td>...</td>\n      <td>...</td>\n      <td>...</td>\n    </tr>\n    <tr>\n      <th rowspan=\"5\" valign=\"top\">2020</th>\n      <th>Uganda</th>\n      <td>41.300000</td>\n      <td>23.929034</td>\n      <td>15.414799</td>\n      <td>4.824</td>\n      <td>11.659186</td>\n      <td>2.951306</td>\n      <td>3.794423</td>\n      <td>63.368000</td>\n      <td>32.978400</td>\n      <td>2.597145</td>\n      <td>43.3</td>\n      <td>3.269713</td>\n      <td>28.897000</td>\n      <td>6.120056</td>\n      <td>2.768</td>\n    </tr>\n    <tr>\n      <th>Ukraine</th>\n      <td>100.000000</td>\n      <td>9.266236</td>\n      <td>39.061358</td>\n      <td>1.228</td>\n      <td>16.724197</td>\n      <td>-4.000006</td>\n      <td>2.732492</td>\n      <td>71.827317</td>\n      <td>66.334193</td>\n      <td>4.129198</td>\n      <td>8.1</td>\n      <td>-0.568252</td>\n      <td>9.726731</td>\n      <td>1.819544</td>\n      <td>9.132</td>\n    </tr>\n    <tr>\n      <th>United Kingdom</th>\n      <td>100.000000</td>\n      <td>0.581796</td>\n      <td>28.120834</td>\n      <td>1.650</td>\n      <td>13.185632</td>\n      <td>-9.396160</td>\n      <td>0.989487</td>\n      <td>81.204878</td>\n      <td>37.662927</td>\n      <td>2.246547</td>\n      <td>4.2</td>\n      <td>0.565405</td>\n      <td>16.497756</td>\n      <td>0.590433</td>\n      <td>4.472</td>\n    </tr>\n    <tr>\n      <th>United States</th>\n      <td>100.000000</td>\n      <td>0.916865</td>\n      <td>10.134143</td>\n      <td>1.705</td>\n      <td>33.866926</td>\n      <td>-3.404592</td>\n      <td>1.233584</td>\n      <td>78.787805</td>\n      <td>18.322586</td>\n      <td>3.741160</td>\n      <td>6.3</td>\n      <td>0.350911</td>\n      <td>6.903812</td>\n      <td>0.574734</td>\n      <td>8.050</td>\n    </tr>\n    <tr>\n      <th>Uruguay</th>\n      <td>99.900000</td>\n      <td>7.481413</td>\n      <td>25.373271</td>\n      <td>1.963</td>\n      <td>11.604388</td>\n      <td>-5.858721</td>\n      <td>9.756406</td>\n      <td>77.911000</td>\n      <td>26.890388</td>\n      <td>2.321460</td>\n      <td>6.2</td>\n      <td>0.345933</td>\n      <td>52.815701</td>\n      <td>1.645427</td>\n      <td>10.350</td>\n    </tr>\n  </tbody>\n</table>\n<p>1953 rows × 15 columns</p>\n</div>"
     },
     "execution_count": 23,
     "metadata": {},
     "output_type": "execute_result"
    }
   ],
   "source": [
    "from data_sources.load_dataset import load_time_series, load_dataset\n",
    "\n",
    "df = load_dataset()\n",
    "print(df.isnull().sum().sum())\n",
    "df"
   ],
   "metadata": {
    "collapsed": false,
    "pycharm": {
     "name": "#%%\n"
    }
   }
  }
 ],
 "metadata": {
  "kernelspec": {
   "display_name": "Python 3 (ipykernel)",
   "language": "python",
   "name": "python3"
  },
  "language_info": {
   "codemirror_mode": {
    "name": "ipython",
    "version": 3
   },
   "file_extension": ".py",
   "mimetype": "text/x-python",
   "name": "python",
   "nbconvert_exporter": "python",
   "pygments_lexer": "ipython3",
   "version": "3.9.7"
  }
 },
 "nbformat": 4,
 "nbformat_minor": 4
}